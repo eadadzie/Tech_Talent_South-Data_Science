{
 "cells": [
  {
   "cell_type": "markdown",
   "metadata": {},
   "source": [
    "# Q1"
   ]
  },
  {
   "cell_type": "code",
   "execution_count": 1,
   "metadata": {},
   "outputs": [
    {
     "name": "stdout",
     "output_type": "stream",
     "text": [
      "Emma 25\n"
     ]
    }
   ],
   "source": [
    "def fun1(name, age=20):\n",
    "    print(name, age)\n",
    "\n",
    "fun1('Emma', 25)"
   ]
  },
  {
   "cell_type": "markdown",
   "metadata": {},
   "source": [
    "# Q2"
   ]
  },
  {
   "cell_type": "code",
   "execution_count": 2,
   "metadata": {},
   "outputs": [
    {
     "name": "stdout",
     "output_type": "stream",
     "text": [
      "(8, 7)\n"
     ]
    }
   ],
   "source": [
    "def add(a, b):\n",
    "    return a+5, b+5\n",
    "\n",
    "result = add(3,2)\n",
    "print(result)"
   ]
  },
  {
   "cell_type": "markdown",
   "metadata": {},
   "source": [
    "# Q3"
   ]
  },
  {
   "cell_type": "code",
   "execution_count": 4,
   "metadata": {},
   "outputs": [
    {
     "name": "stdout",
     "output_type": "stream",
     "text": [
      "100\n"
     ]
    }
   ],
   "source": [
    "x = 0\n",
    "while(x < 100):\n",
    "    x+=2\n",
    "print(x)"
   ]
  },
  {
   "cell_type": "markdown",
   "metadata": {},
   "source": [
    "# Q4"
   ]
  },
  {
   "cell_type": "code",
   "execution_count": 21,
   "metadata": {},
   "outputs": [
    {
     "name": "stdout",
     "output_type": "stream",
     "text": [
      "[1, 5, 7, 7, 0, 1, 2, 3]\n",
      "[1, 5, 7, 7, 0, 1, 2, 3]\n",
      "[1, 5, 7, 7, 0, 1, 2, 3]\n",
      "[1, 5, 7, 7, 0, 1, 2, 3]\n",
      "[1, 5, 7, 7, 0, 1, 2, 3]\n",
      "0\n",
      "[1, 5, 7, 7, 1, 2, 3]\n",
      "1\n",
      "[5, 7, 7, 1, 2, 3]\n",
      "[5, 7, 7, 1, 2, 3]\n",
      "[5, 7, 7, 1, 2, 3]\n",
      "[0, 1]\n"
     ]
    }
   ],
   "source": [
    "def mergeArrays(a, b):\n",
    "    # Write your code here\n",
    "    c = a + b\n",
    "    return sorted(c, reverse=False)\n"
   ]
  },
  {
   "cell_type": "code",
   "execution_count": null,
   "metadata": {},
   "outputs": [],
   "source": [
    "    merge = a + b\n",
    "    print(merge)\n",
    "    c = []\n",
    "    for i in [x for x in merge]:\n",
    "        if i == min(merge):\n",
    "            c.append(i)\n",
    "            print(i)\n",
    "            merge.remove(i)\n",
    "        print(merge)\n",
    "    return c\n",
    "\n",
    "a = [1, 5, 7, 7]\n",
    "b = [0, 1, 2, 3]\n",
    "c = mergeArrays(a, b)"
   ]
  }
 ],
 "metadata": {
  "kernelspec": {
   "display_name": "Python 3",
   "language": "python",
   "name": "python3"
  },
  "language_info": {
   "codemirror_mode": {
    "name": "ipython",
    "version": 3
   },
   "file_extension": ".py",
   "mimetype": "text/x-python",
   "name": "python",
   "nbconvert_exporter": "python",
   "pygments_lexer": "ipython3",
   "version": "3.8.3"
  }
 },
 "nbformat": 4,
 "nbformat_minor": 4
}
