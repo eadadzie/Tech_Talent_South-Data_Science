{
 "cells": [
  {
   "cell_type": "code",
   "execution_count": 2,
   "metadata": {},
   "outputs": [
    {
     "data": {
      "text/plain": [
       "321"
      ]
     },
     "execution_count": 2,
     "metadata": {},
     "output_type": "execute_result"
    }
   ],
   "source": [
    "# Q1\n",
    "def strange(j):\n",
    "    k = 0\n",
    "    while j > 0:\n",
    "        k = 10 * k + j % 10\n",
    "        j = j // 10\n",
    "    return k\n",
    "\n",
    "strange(1230)"
   ]
  },
  {
   "cell_type": "code",
   "execution_count": 3,
   "metadata": {},
   "outputs": [
    {
     "ename": "IndentationError",
     "evalue": "unexpected indent (<ipython-input-3-b1b6e08b9147>, line 4)",
     "output_type": "error",
     "traceback": [
      "\u001b[1;36m  File \u001b[1;32m\"<ipython-input-3-b1b6e08b9147>\"\u001b[1;36m, line \u001b[1;32m4\u001b[0m\n\u001b[1;33m    val = val * 2\u001b[0m\n\u001b[1;37m    ^\u001b[0m\n\u001b[1;31mIndentationError\u001b[0m\u001b[1;31m:\u001b[0m unexpected indent\n"
     ]
    }
   ],
   "source": [
    "# Q3\n",
    "def example(val):\n",
    "    val = val + '4'\n",
    "        val = val * 2\n",
    "    return val\n",
    "\n",
    "example(\"jump\")"
   ]
  },
  {
   "cell_type": "code",
   "execution_count": 7,
   "metadata": {},
   "outputs": [
    {
     "name": "stdout",
     "output_type": "stream",
     "text": [
      "7\n",
      "[1, 2, 3, 'a', None, (), []]\n"
     ]
    }
   ],
   "source": [
    "foo = [1,2,3,'a',None, (), [], ]\n",
    "print(len(foo))\n",
    "print(foo)"
   ]
  },
  {
   "cell_type": "code",
   "execution_count": null,
   "metadata": {},
   "outputs": [],
   "source": [
    "# Q5\n",
    "\n",
    "'''\n",
    "A function is called Higher Order Function if it contains other functions as a \n",
    "parameter or returns a function as an output i.e, the functions that operate with \n",
    "another function are known as Higher order Functions. It is worth knowing that \n",
    "this higher order function is applicable for functions and methods as well that \n",
    "takes functions as a parameter or returns a function as a result. Python too \n",
    "supports the concepts of higher order functions.\n",
    "\n",
    "Properties of higher-order functions:\n",
    "\n",
    "A function is an instance of the Object type.\n",
    "You can store the function in a variable.\n",
    "You can pass the function as a parameter to another function.\n",
    "You can return the function from a function.\n",
    "You can store them in data structures such as hash tables, lists, …\n",
    "'''"
   ]
  },
  {
   "cell_type": "code",
   "execution_count": 8,
   "metadata": {},
   "outputs": [
    {
     "name": "stdout",
     "output_type": "stream",
     "text": [
      "<class 'list'>\n"
     ]
    }
   ],
   "source": [
    "# Q6\n",
    "obj = [1,15,\"hello\",\"30\"]\n",
    "print(type(obj))"
   ]
  },
  {
   "cell_type": "code",
   "execution_count": 15,
   "metadata": {},
   "outputs": [
    {
     "name": "stdout",
     "output_type": "stream",
     "text": [
      "1\n",
      "[]\n",
      "1\n"
     ]
    },
    {
     "ename": "IndexError",
     "evalue": "list index out of range",
     "output_type": "error",
     "traceback": [
      "\u001b[1;31m---------------------------------------------------------------------------\u001b[0m",
      "\u001b[1;31mIndexError\u001b[0m                                Traceback (most recent call last)",
      "\u001b[1;32m<ipython-input-15-b8809b190426>\u001b[0m in \u001b[0;36m<module>\u001b[1;34m\u001b[0m\n\u001b[0;32m      5\u001b[0m \u001b[0mprint\u001b[0m\u001b[1;33m(\u001b[0m\u001b[0mfoo\u001b[0m\u001b[1;33m[\u001b[0m\u001b[1;33m-\u001b[0m\u001b[1;36m1\u001b[0m\u001b[1;33m]\u001b[0m\u001b[1;33m)\u001b[0m\u001b[1;33m\u001b[0m\u001b[1;33m\u001b[0m\u001b[0m\n\u001b[0;32m      6\u001b[0m \u001b[0mprint\u001b[0m\u001b[1;33m(\u001b[0m\u001b[0mfoo\u001b[0m\u001b[1;33m[\u001b[0m\u001b[1;36m0\u001b[0m\u001b[1;33m]\u001b[0m\u001b[1;33m)\u001b[0m\u001b[1;33m\u001b[0m\u001b[1;33m\u001b[0m\u001b[0m\n\u001b[1;32m----> 7\u001b[1;33m \u001b[0mprint\u001b[0m\u001b[1;33m(\u001b[0m\u001b[0mfoo\u001b[0m\u001b[1;33m[\u001b[0m\u001b[0mlen\u001b[0m\u001b[1;33m(\u001b[0m\u001b[0mfoo\u001b[0m\u001b[1;33m)\u001b[0m\u001b[1;33m]\u001b[0m\u001b[1;33m)\u001b[0m\u001b[1;33m\u001b[0m\u001b[1;33m\u001b[0m\u001b[0m\n\u001b[0m",
      "\u001b[1;31mIndexError\u001b[0m: list index out of range"
     ]
    }
   ],
   "source": [
    "# Q7\n",
    "foo = [1,2,3,'a',None, (), []]\n",
    "\n",
    "print(foo[-len(foo)])\n",
    "print(foo[-1])\n",
    "print(foo[0])\n",
    "print(foo[len(foo)])\n"
   ]
  },
  {
   "cell_type": "code",
   "execution_count": 16,
   "metadata": {},
   "outputs": [
    {
     "name": "stdout",
     "output_type": "stream",
     "text": [
      "<class 'float'>\n"
     ]
    }
   ],
   "source": [
    "print(type(3/4))"
   ]
  },
  {
   "cell_type": "code",
   "execution_count": null,
   "metadata": {},
   "outputs": [],
   "source": [
    "# Q10\n",
    "\n",
    "'''\n",
    "1. Which of these in not a core data type?\n",
    "a) Lists\n",
    "b) Dictionary\n",
    "c) Tuples\n",
    "d) Class\n",
    "View Answer\n",
    "\n",
    "Answer: d\n",
    "Explanation: Class is a user defined data type.\n",
    "'''"
   ]
  },
  {
   "cell_type": "code",
   "execution_count": 18,
   "metadata": {},
   "outputs": [
    {
     "name": "stdout",
     "output_type": "stream",
     "text": [
      "John\n",
      "Charles\n",
      "Chris\n",
      "\n",
      "\n",
      "John\n",
      "Charles\n",
      "Chris\n",
      "\n",
      "John\\Charles\\Chris\n"
     ]
    }
   ],
   "source": [
    "# Q11\n",
    "print(\"John\")\n",
    "print(\"Charles\")\n",
    "print(\"Chris\")\n",
    "print()\n",
    "\n",
    "# print(\"John\n",
    "# Charles\n",
    "# Chris\")\n",
    "print()\n",
    "\n",
    "print(\"John\\nCharles\\nChris\")\n",
    "print()\n",
    "\n",
    "print(\"John\\Charles\\Chris\")"
   ]
  },
  {
   "cell_type": "code",
   "execution_count": 19,
   "metadata": {},
   "outputs": [
    {
     "name": "stdout",
     "output_type": "stream",
     "text": [
      "25\n"
     ]
    }
   ],
   "source": [
    "# Q12\n",
    "a = 0\n",
    "for b in range(0,10,2):\n",
    "    a += b + 1\n",
    "print(a)"
   ]
  },
  {
   "cell_type": "code",
   "execution_count": null,
   "metadata": {},
   "outputs": [],
   "source": [
    "# Q13\n",
    "\n",
    "'''\n",
    "The best way to share global variables across modules across a single program is\n",
    "to create a config module. Just import the config module in all modules of your \n",
    "application; the module then becomes available as a global name.\n",
    "'''"
   ]
  },
  {
   "cell_type": "code",
   "execution_count": 25,
   "metadata": {},
   "outputs": [
    {
     "name": "stdout",
     "output_type": "stream",
     "text": [
      "[0, 3, 6, 9]\n",
      "[9, 6, 3, 0]\n"
     ]
    }
   ],
   "source": [
    "# Q14\n",
    "\n",
    "b = [x for x in range(10)]\n",
    "print(b[::3])\n",
    "print(b[::-3])"
   ]
  },
  {
   "cell_type": "code",
   "execution_count": 22,
   "metadata": {},
   "outputs": [
    {
     "name": "stdout",
     "output_type": "stream",
     "text": [
      "foofoofoo\n",
      "8\n"
     ]
    }
   ],
   "source": [
    "# Q15\n",
    "print(\"foo\" * 3)\n",
    "print(2 ** 3)"
   ]
  },
  {
   "cell_type": "code",
   "execution_count": null,
   "metadata": {},
   "outputs": [],
   "source": []
  }
 ],
 "metadata": {
  "kernelspec": {
   "display_name": "Python 3",
   "language": "python",
   "name": "python3"
  },
  "language_info": {
   "codemirror_mode": {
    "name": "ipython",
    "version": 3
   },
   "file_extension": ".py",
   "mimetype": "text/x-python",
   "name": "python",
   "nbconvert_exporter": "python",
   "pygments_lexer": "ipython3",
   "version": "3.8.3"
  }
 },
 "nbformat": 4,
 "nbformat_minor": 4
}
