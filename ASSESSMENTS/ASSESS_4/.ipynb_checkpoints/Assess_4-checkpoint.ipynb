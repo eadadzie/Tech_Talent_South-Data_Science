{
 "cells": [
  {
   "cell_type": "markdown",
   "metadata": {},
   "source": [
    "# Assessment 4\n",
    "\n",
    "=> Input\n",
    "\n",
    "STDIN     Function\n",
    "-----     --------\n",
    "5      →  radius = 5.0\n",
    "3 4    →  width = 3.0, height = 4.0\n",
    "2      →  radius = 2.0\n",
    "3.3    →  width = 3.3\n",
    "5 7.5  →  width = 5.0, height = 7.5\n",
    "\n",
    "=> Output\n",
    "\n",
    "79\n",
    "12\n",
    "13\n",
    "11\n",
    "38"
   ]
  },
  {
   "cell_type": "code",
   "execution_count": 2,
   "metadata": {},
   "outputs": [],
   "source": [
    "import math\n",
    "\n",
    "class Circle:\n",
    "    def __init__(self, radius):\n",
    "        self.radius = radius\n",
    "    \n",
    "    def getArea(self):\n",
    "        area = math.ceil(math.pi * self.radius ** 2)\n",
    "        return area \n",
    "\n",
    "class Rectangle:\n",
    "    def __init__(self, width, height):\n",
    "        self.width = width\n",
    "        self.height = height\n",
    "\n",
    "    def getArea(self):\n",
    "        area = math.ceil(self.width * self.height)\n",
    "        return area\n",
    "\n",
    "class Square:\n",
    "    def __init__(self, width):\n",
    "        self.width = width\n",
    "\n",
    "    def getArea(self):\n",
    "        area = math.ceil(self.width ** 2)\n",
    "        return area"
   ]
  },
  {
   "cell_type": "code",
   "execution_count": 4,
   "metadata": {},
   "outputs": [
    {
     "name": "stdout",
     "output_type": "stream",
     "text": [
      "79\n",
      "12\n",
      "13\n",
      "11\n",
      "38\n"
     ]
    }
   ],
   "source": [
    "my_Circle_1 = Circle(5.0)\n",
    "my_Rectangle_1 = Rectangle(3.0, 4.0)\n",
    "my_Circle_2 = Circle(2.0)\n",
    "my_Square_1 = Square(3.3)\n",
    "my_Rectangle_2 = Rectangle(5.0, 7.5)\n",
    "\n",
    "print(my_Circle_1.getArea())\n",
    "print(my_Rectangle_1.getArea())\n",
    "print(my_Circle_2.getArea())\n",
    "print(my_Square_1.getArea())\n",
    "print(my_Rectangle_2.getArea())"
   ]
  },
  {
   "cell_type": "code",
   "execution_count": null,
   "metadata": {},
   "outputs": [],
   "source": []
  }
 ],
 "metadata": {
  "kernelspec": {
   "display_name": "Python 3",
   "language": "python",
   "name": "python3"
  },
  "language_info": {
   "codemirror_mode": {
    "name": "ipython",
    "version": 3
   },
   "file_extension": ".py",
   "mimetype": "text/x-python",
   "name": "python",
   "nbconvert_exporter": "python",
   "pygments_lexer": "ipython3",
   "version": "3.8.3"
  }
 },
 "nbformat": 4,
 "nbformat_minor": 4
}
