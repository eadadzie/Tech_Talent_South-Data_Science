{
 "cells": [
  {
   "cell_type": "code",
   "execution_count": null,
   "metadata": {},
   "outputs": [],
   "source": [
    "# Q1"
   ]
  },
  {
   "cell_type": "code",
   "execution_count": null,
   "metadata": {},
   "outputs": [],
   "source": []
  },
  {
   "cell_type": "code",
   "execution_count": null,
   "metadata": {},
   "outputs": [],
   "source": [
    "# Q2"
   ]
  },
  {
   "cell_type": "code",
   "execution_count": null,
   "metadata": {},
   "outputs": [],
   "source": [
    "def breakPalindrome(palindromeStr):\n",
    "    # Write your code here\n",
    "    #n=int(raw_input())\n",
    "    if len(palindromeStr) == 1 or len(set(palindromeStr)) == 1:\n",
    "            return \"IMPOSSIBLE\"\n",
    "    for i in range(len(palindromeStr) // 2):\n",
    "            if palindromeStr[i] != 'a':\n",
    "                return palindromeStr[:i] + 'a' + palindromeStr[i + 1:]\n",
    "    \n",
    "    return palindromeStr[:-1] + 'b';"
   ]
  }
 ],
 "metadata": {
  "kernelspec": {
   "display_name": "Python 3",
   "language": "python",
   "name": "python3"
  },
  "language_info": {
   "codemirror_mode": {
    "name": "ipython",
    "version": 3
   },
   "file_extension": ".py",
   "mimetype": "text/x-python",
   "name": "python",
   "nbconvert_exporter": "python",
   "pygments_lexer": "ipython3",
   "version": "3.8.3"
  }
 },
 "nbformat": 4,
 "nbformat_minor": 4
}
