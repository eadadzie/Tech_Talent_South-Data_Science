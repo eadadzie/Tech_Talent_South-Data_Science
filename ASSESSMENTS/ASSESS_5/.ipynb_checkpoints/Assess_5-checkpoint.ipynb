{
 "cells": [
  {
   "cell_type": "code",
   "execution_count": null,
   "metadata": {},
   "outputs": [],
   "source": [
    "# Q1"
   ]
  },
  {
   "cell_type": "code",
   "execution_count": 1,
   "metadata": {},
   "outputs": [],
   "source": [
    "import os\n",
    "import random\n",
    "import re\n",
    "import sys\n",
    "\n",
    "def getLargestString(s, k):\n",
    "    s = sorted (s)\n",
    "    s = s[::-1]\n",
    "    s = \"\".join(s)\n",
    "    news = \"\".join(s[0])\n",
    "    count = 1\n",
    "    for i in range (1,len(s)):\n",
    "        if count < k:\n",
    "            news = news.join(s[i])\n",
    "            if s[i] == news[i-1]:\n",
    "                count += 1 \n",
    "            else: count = 0\n",
    "        else:\n",
    "            found = False\n",
    "            for j in range (i, len(s)):\n",
    "                if s[i] != s[j]:\n",
    "                    s = list(s) \n",
    "                    s[i],s[j]=s[j],s[i]\n",
    "                    s = \"\".join(s)\n",
    "                    found = True\n",
    "                    break\n",
    "            if found == False:\n",
    "                return news\n",
    "            else: \n",
    "                news = news.join(s[i])\n",
    "                if s[i] == news[i-1]:\n",
    "                   count += 1 \n",
    "                else: count = 0        \n",
    "    return news\n",
    "if __name__ == '__main__':\n",
    "    fptr = open(os.environ['OUTPUT_PATH'], 'w')\n",
    "    s = input()\n",
    "    k = int(input().strip())\n",
    "    result = getLargestString(s, k)\n",
    "    fptr.write(result + '\\n')\n",
    "    fptr.close()\n",
    "    \n",
    "    \n",
    "    \n",
    "    \n",
    "######## Alternate Answer\n",
    "\n",
    "def getLargestString(s, k):\n",
    "    s = sorted (s)\n",
    "    s = s[::-1]\n",
    "    s = \"\".join(s)\n",
    "    news = \"\".join(s[0])\n",
    "    count = 1\n",
    "    for i in range (1,len(s)):\n",
    "        if count < k:\n",
    "            news += s[i]\n",
    "            if s[i] == news[i-1]:\n",
    "                count += 1 \n",
    "            else: count = 1\n",
    "        else:\n",
    "            found = False\n",
    "            for j in range (i, len(s)):\n",
    "                if s[i] != s[j]:\n",
    "                    news += s[j]\n",
    "                    if news[i] == news[i-1]:\n",
    "                        count += 1\n",
    "                    else: count = 1 \n",
    "                    s = list(s) \n",
    "                    s[j]=s[i]\n",
    "                    s = \"\".join(s)\n",
    "                    found = True\n",
    "                    break\n",
    "            if found == False:\n",
    "                return news        \n",
    "    return news\n"
   ]
  },
  {
   "cell_type": "code",
   "execution_count": null,
   "metadata": {},
   "outputs": [],
   "source": [
    "# Q2"
   ]
  },
  {
   "cell_type": "code",
   "execution_count": null,
   "metadata": {},
   "outputs": [],
   "source": [
    "def breakPalindrome(palindromeStr):\n",
    "    # Write your code here\n",
    "    #n=int(raw_input())\n",
    "    if len(palindromeStr) == 1 or len(set(palindromeStr)) == 1:\n",
    "            return \"IMPOSSIBLE\"\n",
    "    for i in range(len(palindromeStr) // 2):\n",
    "            if palindromeStr[i] != 'a':\n",
    "                return palindromeStr[:i] + 'a' + palindromeStr[i + 1:]\n",
    "    \n",
    "    return palindromeStr[:-1] + 'b';"
   ]
  }
 ],
 "metadata": {
  "kernelspec": {
   "display_name": "Python 3",
   "language": "python",
   "name": "python3"
  },
  "language_info": {
   "codemirror_mode": {
    "name": "ipython",
    "version": 3
   },
   "file_extension": ".py",
   "mimetype": "text/x-python",
   "name": "python",
   "nbconvert_exporter": "python",
   "pygments_lexer": "ipython3",
   "version": "3.8.3"
  }
 },
 "nbformat": 4,
 "nbformat_minor": 4
}
