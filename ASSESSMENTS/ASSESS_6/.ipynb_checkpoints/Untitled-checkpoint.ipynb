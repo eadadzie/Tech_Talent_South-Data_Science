{
 "cells": [
  {
   "cell_type": "code",
   "execution_count": null,
   "metadata": {},
   "outputs": [],
   "source": [
    "# Q1"
   ]
  },
  {
   "cell_type": "code",
   "execution_count": null,
   "metadata": {},
   "outputs": [],
   "source": [
    "def maxMin(operations, x):\n",
    "    # Write your code here\n",
    "    result = []\n",
    "    product = []\n",
    "    \n",
    "    for i in range(len(x)):\n",
    "        if (not 1 <= x[i] <= 10**9) or (not 1 <= len(x) <= 10**5):\n",
    "            break\n",
    "        if operations[i] == 'push':\n",
    "            result.append(x[i])\n",
    "        elif operations[i] == 'pop':\n",
    "            result.remove(x[i])\n",
    "        product.append(max(result) * min(result))\n",
    "    return product"
   ]
  }
 ],
 "metadata": {
  "kernelspec": {
   "display_name": "Python 3",
   "language": "python",
   "name": "python3"
  },
  "language_info": {
   "codemirror_mode": {
    "name": "ipython",
    "version": 3
   },
   "file_extension": ".py",
   "mimetype": "text/x-python",
   "name": "python",
   "nbconvert_exporter": "python",
   "pygments_lexer": "ipython3",
   "version": "3.8.3"
  }
 },
 "nbformat": 4,
 "nbformat_minor": 4
}
