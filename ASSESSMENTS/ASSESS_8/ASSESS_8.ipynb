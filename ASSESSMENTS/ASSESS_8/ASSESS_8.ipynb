{
 "cells": [
  {
   "cell_type": "markdown",
   "metadata": {},
   "source": [
    "# Q1"
   ]
  },
  {
   "cell_type": "code",
   "execution_count": null,
   "metadata": {},
   "outputs": [],
   "source": [
    "import pandas as pd\n",
    "import numpy as np\n",
    "from sklearn.ensemble import RandomForestRegressor\n",
    "from sklearn.tree import DecisionTreeRegressor\n",
    "\n",
    "df_train = pd.read_csv(\"train.csv\", header=None)\n",
    "df_test = pd.read_csv(\"test.csv\", header=None)\n",
    "#print(df_train.head())\n",
    "#print(df_test.head())\n",
    "\n",
    "x_train = df_train.iloc[:, 0:500]\n",
    "y_train = df_train.iloc[:, 500]\n",
    "\n",
    "x_test = df_test.iloc[:, 0:]\n",
    "\n",
    "model = RandomForestRegressor(n_estimators = 10, random_state = 0)\n",
    "#model = DecisionTreeRegressor(random_state = 0)\n",
    "model.fit(x_train, y_train)\n",
    "\n",
    "prediction = model.predict(x_test)\n",
    "df_prediction = pd.DataFrame(prediction)\n",
    "#print(df_prediction)\n",
    "\n",
    "df_prediction.to_csv(\"prediction.csv\", header=None, index=False)"
   ]
  }
 ],
 "metadata": {
  "kernelspec": {
   "display_name": "Python 3",
   "language": "python",
   "name": "python3"
  },
  "language_info": {
   "codemirror_mode": {
    "name": "ipython",
    "version": 3
   },
   "file_extension": ".py",
   "mimetype": "text/x-python",
   "name": "python",
   "nbconvert_exporter": "python",
   "pygments_lexer": "ipython3",
   "version": "3.8.3"
  }
 },
 "nbformat": 4,
 "nbformat_minor": 4
}
