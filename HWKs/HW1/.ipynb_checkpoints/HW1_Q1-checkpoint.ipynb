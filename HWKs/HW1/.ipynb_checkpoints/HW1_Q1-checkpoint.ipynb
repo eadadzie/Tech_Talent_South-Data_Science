{
 "cells": [
  {
   "cell_type": "code",
   "execution_count": 2,
   "metadata": {},
   "outputs": [
    {
     "name": "stdout",
     "output_type": "stream",
     "text": [
      "Enter First Name: Emmanuel\n",
      "Enter Last Name: Dadzie\n",
      "Full Name reversed 1:  eizdaD leunammE\n",
      "\n",
      "Full Name reversed 2:  Dadzie Emmanuel\n",
      "Enter First Name: emma\n",
      "Enter Last Name: dad\n",
      "dad emma\n"
     ]
    }
   ],
   "source": [
    "# First scenario\n",
    "first_name = str(input(\"Enter First Name: \"))\n",
    "last_name = str(input(\"Enter Last Name: \"))\n",
    "full_name = first_name + ' ' + last_name\n",
    "print('Full Name reversed 1: ', full_name[::-1])\n",
    "print()\n",
    "\n",
    "# Second scenario\n",
    "fullName = []\n",
    "fullName.append(first_name)\n",
    "fullName.append(last_name)\n",
    "reverse_name = \" \".join(reversed(fullName))\n",
    "print('Full Name reversed 2: ', reverse_name)\n"
   ]
  },
  {
   "cell_type": "code",
   "execution_count": 4,
   "metadata": {},
   "outputs": [
    {
     "name": "stdout",
     "output_type": "stream",
     "text": [
      "Enter First Name: Esi\n",
      "Enter Last Name: Nunu\n",
      "Your name is: Nunu Esi\n"
     ]
    }
   ],
   "source": [
    "# Actual answer\n",
    "first_name = str(input(\"Enter First Name: \"))\n",
    "last_name = str(input(\"Enter Last Name: \"))\n",
    "print('Your name is:', last_name, first_name)"
   ]
  },
  {
   "cell_type": "code",
   "execution_count": null,
   "metadata": {},
   "outputs": [],
   "source": []
  }
 ],
 "metadata": {
  "kernelspec": {
   "display_name": "Python 3",
   "language": "python",
   "name": "python3"
  },
  "language_info": {
   "codemirror_mode": {
    "name": "ipython",
    "version": 3
   },
   "file_extension": ".py",
   "mimetype": "text/x-python",
   "name": "python",
   "nbconvert_exporter": "python",
   "pygments_lexer": "ipython3",
   "version": "3.8.3"
  }
 },
 "nbformat": 4,
 "nbformat_minor": 4
}
