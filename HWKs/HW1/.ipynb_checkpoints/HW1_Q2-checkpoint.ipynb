{
 "cells": [
  {
   "cell_type": "code",
   "execution_count": 1,
   "metadata": {},
   "outputs": [
    {
     "name": "stdout",
     "output_type": "stream",
     "text": [
      "Enter an Integer:2\n",
      "Answer: 14\n"
     ]
    }
   ],
   "source": [
    "number = int(input(\"Enter an Integer:\"))\n",
    "\n",
    "compute = number + number ** 2 + number ** 3\n",
    "print('Answer:', compute)\n"
   ]
  },
  {
   "cell_type": "code",
   "execution_count": 52,
   "metadata": {},
   "outputs": [
    {
     "name": "stdout",
     "output_type": "stream",
     "text": [
      "1.9\n",
      "Not an integer! Try again.\n",
      "f\n",
      "Not an integer! Try again.\n",
      "4\n",
      "Answer: 84\n"
     ]
    }
   ],
   "source": [
    "while True:\n",
    "    try:\n",
    "        userInput = int(input(my_input))       \n",
    "    except ValueError:\n",
    "        print(\"Not an integer! Try again.\")\n",
    "        continue\n",
    "    else: \n",
    "        break \n",
    "\n",
    "compute = userInput + userInput ** 2 + userInput ** 3\n",
    "print('Answer:', compute)"
   ]
  },
  {
   "cell_type": "code",
   "execution_count": 2,
   "metadata": {},
   "outputs": [
    {
     "name": "stdout",
     "output_type": "stream",
     "text": [
      "Input an integer : 3\n",
      "369\n"
     ]
    }
   ],
   "source": [
    "a = int(input(\"Input an integer : \"))\n",
    "n1 = int( \"%s\" % a )\n",
    "n2 = int( \"%s%s\" % (a,a) )\n",
    "n3 = int( \"%s%s%s\" % (a,a,a) )\n",
    "print (n1+n2+n3)"
   ]
  },
  {
   "cell_type": "code",
   "execution_count": null,
   "metadata": {},
   "outputs": [],
   "source": []
  }
 ],
 "metadata": {
  "kernelspec": {
   "display_name": "Python 3",
   "language": "python",
   "name": "python3"
  },
  "language_info": {
   "codemirror_mode": {
    "name": "ipython",
    "version": 3
   },
   "file_extension": ".py",
   "mimetype": "text/x-python",
   "name": "python",
   "nbconvert_exporter": "python",
   "pygments_lexer": "ipython3",
   "version": "3.8.3"
  }
 },
 "nbformat": 4,
 "nbformat_minor": 4
}
