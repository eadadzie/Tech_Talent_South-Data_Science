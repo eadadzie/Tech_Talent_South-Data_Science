{
 "cells": [
  {
   "cell_type": "markdown",
   "metadata": {},
   "source": [
    "# Q1: Accept the user's first and last name and print them in reverse order with a space between them"
   ]
  },
  {
   "cell_type": "code",
   "execution_count": 1,
   "metadata": {},
   "outputs": [
    {
     "name": "stdout",
     "output_type": "stream",
     "text": [
      "Enter First Name: Emmanuel\n",
      "Enter Last Name: Dadzie\n",
      "Your name is: Dadzie Emmanuel\n"
     ]
    }
   ],
   "source": [
    "# Actual answer\n",
    "first_name = str(input(\"Enter First Name: \"))\n",
    "last_name = str(input(\"Enter Last Name: \"))\n",
    "print('Your name is:', last_name + ' ' + first_name)"
   ]
  },
  {
   "cell_type": "markdown",
   "metadata": {},
   "source": [
    "# Q2: Accept an integer (n) and compute the value of n+nn+nnn"
   ]
  },
  {
   "cell_type": "code",
   "execution_count": 2,
   "metadata": {},
   "outputs": [
    {
     "name": "stdout",
     "output_type": "stream",
     "text": [
      "Input an integer : 3\n",
      "Answer is: 369\n"
     ]
    }
   ],
   "source": [
    "user_input = int(input(\"Input an integer : \"))\n",
    "n1 = int( \"%s\" % user_input )\n",
    "n2 = int( \"%s%s\" % (user_input, user_input))\n",
    "n3 = int( \"%s%s%s\" % (user_input, user_input, user_input))\n",
    "\n",
    "compute = n1 + n2 + n3\n",
    "print (\"Answer is:\", compute)"
   ]
  },
  {
   "cell_type": "markdown",
   "metadata": {},
   "source": [
    "# Q3: Ask the user \"What country are you from?\" then print the following statement: \"I have heard that [input] is a beautiful country!\""
   ]
  },
  {
   "cell_type": "code",
   "execution_count": 3,
   "metadata": {},
   "outputs": [
    {
     "name": "stdout",
     "output_type": "stream",
     "text": [
      "What country are you from?  Ghana\n",
      "\n",
      "I heard that Ghana is a beautiful country!\n"
     ]
    }
   ],
   "source": [
    "user_input = input(\"What country are you from?  \")\n",
    "print()\n",
    "print(f'I heard that {user_input} is a beautiful country!')"
   ]
  },
  {
   "cell_type": "markdown",
   "metadata": {},
   "source": [
    "# Q4: What is the output of the following Python code"
   ]
  },
  {
   "cell_type": "code",
   "execution_count": 5,
   "metadata": {},
   "outputs": [
    {
     "name": "stdout",
     "output_type": "stream",
     "text": [
      "This code will not give an output\n"
     ]
    }
   ],
   "source": [
    "x = 10\n",
    "y = 50\n",
    "if (x ** 2 > 100 and y < 100):\n",
    "    print(x, y)\n",
    "\n",
    "print(\"This code will not give an output.\")"
   ]
  },
  {
   "cell_type": "markdown",
   "metadata": {},
   "source": [
    "# Q5: What is the output of the following addition (+) operator"
   ]
  },
  {
   "cell_type": "code",
   "execution_count": 8,
   "metadata": {},
   "outputs": [
    {
     "name": "stdout",
     "output_type": "stream",
     "text": [
      "[10, 20, 30, 40]\n",
      "[10, 20, 30, 40]\n",
      "Answer: The addition operator adds the new list to old list making the list items 4 in number.\n"
     ]
    }
   ],
   "source": [
    "a = [10, 20]\n",
    "b = a\n",
    "b += [30, 40]\n",
    "print(a)\n",
    "print(b)\n",
    "\n",
    "print(\"Answer: The addition operator appends the new list to old list making the list items 4 in number.\")"
   ]
  },
  {
   "cell_type": "markdown",
   "metadata": {},
   "source": [
    "# Q6: What is the output of print (2%6)"
   ]
  },
  {
   "cell_type": "code",
   "execution_count": 9,
   "metadata": {},
   "outputs": [
    {
     "name": "stdout",
     "output_type": "stream",
     "text": [
      "2\n",
      "ANswer: Output will be 2\n"
     ]
    }
   ],
   "source": [
    "print (2%6)\n",
    "\n",
    "print(\"ANswer: Output will be 2\")"
   ]
  },
  {
   "cell_type": "markdown",
   "metadata": {},
   "source": [
    "# Q7 What is the output of print(2 * 3 ** 3 * 4)"
   ]
  },
  {
   "cell_type": "code",
   "execution_count": 18,
   "metadata": {},
   "outputs": [
    {
     "name": "stdout",
     "output_type": "stream",
     "text": [
      "216\n",
      "Answer: Output is 216\n"
     ]
    }
   ],
   "source": [
    "print(2 * 3 ** 3 * 4)\n",
    "\n",
    "print(\"Answer: Output is 216\")"
   ]
  },
  {
   "cell_type": "markdown",
   "metadata": {},
   "source": [
    "# Q8 What is a text editor?"
   ]
  },
  {
   "cell_type": "code",
   "execution_count": 15,
   "metadata": {},
   "outputs": [
    {
     "name": "stdout",
     "output_type": "stream",
     "text": [
      "\n",
      "ANswer: It is any word processing computer program that can be used to type and edit plain text.\n",
      "Examples are NotePad, Word Pad, and Microsoft Word for Window operating systems.\n",
      "\n"
     ]
    }
   ],
   "source": [
    "print(\n",
    "'''\n",
    "ANswer: It is any word processing computer program that can be used to type and edit plain text.\n",
    "Examples are NotePad, Word Pad, and Microsoft Word for Window operating systems.\n",
    "''')"
   ]
  },
  {
   "cell_type": "markdown",
   "metadata": {},
   "source": [
    "# Q9 What is python?"
   ]
  },
  {
   "cell_type": "code",
   "execution_count": 17,
   "metadata": {},
   "outputs": [
    {
     "name": "stdout",
     "output_type": "stream",
     "text": [
      "\n",
      "Python is an interpreted, object-oriented, high-level programming language with dynamic semantics. \n",
      "It has a high-level built-in data structures, combined with dynamic typing for easy and rapid \n",
      "Application Development, and scripting. Python emphasizes readability and simplicity in its language. \n",
      "It supports modules and packages, which encourages program modularity and code reuse.\n",
      "\n"
     ]
    }
   ],
   "source": [
    "print(\n",
    "'''\n",
    "Answer: Python is an interpreted, object-oriented, high-level programming language with dynamic semantics. \n",
    "It has a high-level built-in data structures, combined with dynamic typing for easy and rapid \n",
    "Application Development, and scripting. Python emphasizes readability and simplicity in its language. \n",
    "It supports modules and packages, which encourages program modularity and code reuse.\n",
    "''')"
   ]
  },
  {
   "cell_type": "markdown",
   "metadata": {},
   "source": [
    "# Q10 What is a jupyter notebook and list two alternatives."
   ]
  },
  {
   "cell_type": "code",
   "execution_count": 20,
   "metadata": {},
   "outputs": [
    {
     "name": "stdout",
     "output_type": "stream",
     "text": [
      "\n",
      "Answer: The Jupyter Notebook is an open-source web application that allows the creating and sharing \n",
      "of documents that contain live code, equations, visualizations and narrative text. It uses include \n",
      "data cleaning and transformation, numerical simulation, statistical modeling, data visualization, \n",
      "machine learning, etc.\n",
      "\n",
      "Two alternatives to jupyter are PyCharm and RStudio.\n",
      "\n"
     ]
    }
   ],
   "source": [
    "print(\n",
    "'''\n",
    "Answer: The Jupyter Notebook is an open-source web application that allows the creating and sharing \n",
    "of documents that contain live code, equations, visualizations and narrative text. It uses include \n",
    "data cleaning and transformation, numerical simulation, statistical modeling, data visualization, \n",
    "machine learning, etc.\n",
    "\n",
    "Two alternatives to jupyter are PyCharm and RStudio.\n",
    "''')"
   ]
  },
  {
   "cell_type": "code",
   "execution_count": null,
   "metadata": {},
   "outputs": [],
   "source": []
  },
  {
   "cell_type": "code",
   "execution_count": null,
   "metadata": {},
   "outputs": [],
   "source": []
  }
 ],
 "metadata": {
  "kernelspec": {
   "display_name": "Python 3",
   "language": "python",
   "name": "python3"
  },
  "language_info": {
   "codemirror_mode": {
    "name": "ipython",
    "version": 3
   },
   "file_extension": ".py",
   "mimetype": "text/x-python",
   "name": "python",
   "nbconvert_exporter": "python",
   "pygments_lexer": "ipython3",
   "version": "3.8.3"
  }
 },
 "nbformat": 4,
 "nbformat_minor": 4
}
