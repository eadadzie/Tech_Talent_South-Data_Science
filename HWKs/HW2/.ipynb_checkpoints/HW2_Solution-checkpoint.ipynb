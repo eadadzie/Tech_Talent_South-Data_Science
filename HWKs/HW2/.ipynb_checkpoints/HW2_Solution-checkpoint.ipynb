{
 "cells": [
  {
   "cell_type": "markdown",
   "metadata": {},
   "source": [
    "# Question 1: \n",
    "\n",
    "In mathematics, the quadratic equation ax2+bx+c=0 can be solved with the formula x=−b±b2−4ac√2a.\n",
    "Write a function solve_quadratic, that returns both solutions of a generic quadratic as a pair (2-tuple) when the coefficients are given as parameters. It should work like this:"
   ]
  },
  {
   "cell_type": "code",
   "execution_count": 4,
   "metadata": {},
   "outputs": [
    {
     "name": "stdout",
     "output_type": "stream",
     "text": [
      "(-1.0, -1.0)\n"
     ]
    }
   ],
   "source": [
    "import math as m\n",
    "\n",
    "def quadratic_eqn(a, b, c):\n",
    "    x1 = (-b + m.sqrt(b ** 2 - (4 * a * c))) / (2 * a)\n",
    "    \n",
    "    x2 = (-b - m.sqrt(b ** 2 - (4 * a * c))) / (2 * a)\n",
    "    \n",
    "    return (x1, x2)\n",
    "\n",
    "print(quadratic_eqn(1, 2, 1))"
   ]
  },
  {
   "cell_type": "markdown",
   "metadata": {},
   "source": [
    "# Question 4:\n",
    "\n",
    "Take the following list. Slice it into three equal chunks and reverse each list."
   ]
  },
  {
   "cell_type": "code",
   "execution_count": 20,
   "metadata": {},
   "outputs": [
    {
     "name": "stdout",
     "output_type": "stream",
     "text": [
      "list 1: [11, 45, 8]\n",
      "list 2: [23, 14, 12]\n",
      "list 3: [78, 45, 89]\n",
      "\n",
      "Reversed list 1: [8, 45, 11]\n",
      "Reversed list 2: [12, 14, 23]\n",
      "Reversed list 3: [89, 45, 78]\n"
     ]
    }
   ],
   "source": [
    "sampleList = [11, 45, 8, 23, 14, 12, 78, 45, 89]\n",
    "\n",
    "divisor = 3\n",
    "\n",
    "list1 = sampleList[0:3]\n",
    "list2 = sampleList[3:6]\n",
    "list3 = sampleList[6:]\n",
    "\n",
    "print(\"list 1:\", list1)\n",
    "print(\"list 2:\", list2)\n",
    "print(\"list 3:\", list3)\n",
    "print()\n",
    "\n",
    "print(\"Reversed list 1:\", list1[::-1])\n",
    "print(\"Reversed list 2:\", list2[::-1])\n",
    "print(\"Reversed list 3:\", list3[::-1])\n"
   ]
  },
  {
   "cell_type": "markdown",
   "metadata": {},
   "source": [
    "# Question 2: \n",
    "\n",
    "Get a space-separated list of integers from the user, create a tuple of those integers. Then compute and print the result of hash(tuple)."
   ]
  },
  {
   "cell_type": "code",
   "execution_count": 21,
   "metadata": {},
   "outputs": [
    {
     "name": "stdout",
     "output_type": "stream",
     "text": [
      "Please enter a list of space separated integers: _\n"
     ]
    },
    {
     "ename": "ValueError",
     "evalue": "invalid literal for int() with base 10: '_'",
     "output_type": "error",
     "traceback": [
      "\u001b[1;31m---------------------------------------------------------------------------\u001b[0m",
      "\u001b[1;31mValueError\u001b[0m                                Traceback (most recent call last)",
      "\u001b[1;32m<ipython-input-21-79fa8ceb09b5>\u001b[0m in \u001b[0;36m<module>\u001b[1;34m\u001b[0m\n\u001b[1;32m----> 1\u001b[1;33m \u001b[0mlistOne\u001b[0m \u001b[1;33m=\u001b[0m \u001b[0mlist\u001b[0m\u001b[1;33m(\u001b[0m\u001b[0mmap\u001b[0m\u001b[1;33m(\u001b[0m\u001b[0mint\u001b[0m\u001b[1;33m,\u001b[0m \u001b[0minput\u001b[0m\u001b[1;33m(\u001b[0m\u001b[1;34m\"Please enter a list of space separated integers: \"\u001b[0m\u001b[1;33m)\u001b[0m\u001b[1;33m.\u001b[0m\u001b[0msplit\u001b[0m\u001b[1;33m(\u001b[0m\u001b[1;33m)\u001b[0m\u001b[1;33m)\u001b[0m\u001b[1;33m)\u001b[0m\u001b[1;33m\u001b[0m\u001b[1;33m\u001b[0m\u001b[0m\n\u001b[0m\u001b[0;32m      2\u001b[0m \u001b[0mtupleOne\u001b[0m \u001b[1;33m=\u001b[0m \u001b[0mtuple\u001b[0m\u001b[1;33m(\u001b[0m\u001b[0mlistOne\u001b[0m\u001b[1;33m)\u001b[0m\u001b[1;33m\u001b[0m\u001b[1;33m\u001b[0m\u001b[0m\n\u001b[0;32m      3\u001b[0m \u001b[0mprint\u001b[0m\u001b[1;33m(\u001b[0m\u001b[0mhash\u001b[0m\u001b[1;33m(\u001b[0m\u001b[0mtupleOne\u001b[0m\u001b[1;33m)\u001b[0m\u001b[1;33m)\u001b[0m\u001b[1;33m\u001b[0m\u001b[1;33m\u001b[0m\u001b[0m\n",
      "\u001b[1;31mValueError\u001b[0m: invalid literal for int() with base 10: '_'"
     ]
    }
   ],
   "source": [
    "listOne = list(map(int, input(\"Please enter a list of space separated integers: \").split()))\n",
    "tupleOne = tuple(listOne)\n",
    "print(hash(tupleOne))\n"
   ]
  },
  {
   "cell_type": "markdown",
   "metadata": {},
   "source": [
    "# Question 3\n",
    "\n",
    "Take the following two lists. Create a third list by picking a odd-index elements from the first list and even-index elements from the second."
   ]
  },
  {
   "cell_type": "code",
   "execution_count": 36,
   "metadata": {},
   "outputs": [
    {
     "name": "stdout",
     "output_type": "stream",
     "text": [
      "Odd Index Numbers: [6, 12, 18]\n",
      "Even Index Numbers: [4, 12, 20, 28]\n",
      "\n",
      "List Three: [6, 12, 18, 4, 12, 20, 28]\n"
     ]
    }
   ],
   "source": [
    "listOne = [3, 6, 9, 12, 15, 18, 21]\n",
    "listTwo = [4, 8, 12, 16, 20, 24, 28]\n",
    "\n",
    "odd_index = listOne[1::2]\n",
    "even_index = listTwo[0::2]\n",
    "\n",
    "print(\"Odd Index Numbers:\", odd_index)\n",
    "print(\"Even Index Numbers:\", even_index)\n",
    "print()\n",
    "\n",
    "listThree = odd_index + even_index\n",
    "\n",
    "print(\"List Three:\", listThree)\n"
   ]
  },
  {
   "cell_type": "markdown",
   "metadata": {},
   "source": [
    "# Question 5:\n",
    "\n",
    "Iterate through a given list and check if a given element already exists in a dictionary as a key’s value. If not, delete it from the list."
   ]
  },
  {
   "cell_type": "code",
   "execution_count": 67,
   "metadata": {},
   "outputs": [
    {
     "name": "stdout",
     "output_type": "stream",
     "text": [
      "Skipped  47\n",
      "Removed (64)\n",
      "Skipped  69\n",
      "Removed (37)\n",
      "Skipped  76\n",
      "Removed (83)\n",
      "Removed (95)\n",
      "Skipped  97\n",
      "\n",
      "Final list: [47, 69, 76, 97]\n"
     ]
    }
   ],
   "source": [
    "rollNumber = [47, 64, 69, 37, 76, 83, 95, 97]\n",
    "sampleDict ={'Zach':47, 'Emma':69, 'Kelly':76, 'Jason':97}\n",
    "\n",
    "for i in [x for x in rollNumber]:\n",
    "    if i not in sampleDict.values():\n",
    "        rollNumber.remove(i)\n",
    "        print(\"Removed (%s)\" % i)\n",
    "    else:\n",
    "        print(\"Skipped  %s\" % i)\n",
    "        continue\n",
    "        \n",
    "print()\n",
    "print(\"Final list:\", rollNumber)    "
   ]
  },
  {
   "cell_type": "code",
   "execution_count": null,
   "metadata": {},
   "outputs": [],
   "source": []
  },
  {
   "cell_type": "code",
   "execution_count": null,
   "metadata": {},
   "outputs": [],
   "source": []
  }
 ],
 "metadata": {
  "kernelspec": {
   "display_name": "Python 3",
   "language": "python",
   "name": "python3"
  },
  "language_info": {
   "codemirror_mode": {
    "name": "ipython",
    "version": 3
   },
   "file_extension": ".py",
   "mimetype": "text/x-python",
   "name": "python",
   "nbconvert_exporter": "python",
   "pygments_lexer": "ipython3",
   "version": "3.8.3"
  }
 },
 "nbformat": 4,
 "nbformat_minor": 4
}
