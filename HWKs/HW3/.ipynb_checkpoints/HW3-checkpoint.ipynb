{
 "cells": [
  {
   "cell_type": "markdown",
   "metadata": {},
   "source": [
    "# Q1"
   ]
  },
  {
   "cell_type": "code",
   "execution_count": 16,
   "metadata": {},
   "outputs": [
    {
     "name": "stdout",
     "output_type": "stream",
     "text": [
      "Guess a number between 1 and 10 until you get it right : 1\n",
      "Guess a number between 1 and 10 until you get it right : 2\n",
      "Guess a number between 1 and 10 until you get it right : 3\n",
      "Guess a number between 1 and 10 until you get it right : 4\n",
      "Guess a number between 1 and 10 until you get it right : 5\n",
      "Guess a number between 1 and 10 until you get it right : 6\n",
      "You guessed correct!\n"
     ]
    }
   ],
   "source": [
    "import random\n",
    "\n",
    "target_num, guess_num = random.randint(1, 10), 0\n",
    "while target_num != guess_num:\n",
    "    guess_num = int(input('Guess a number between 1 and 10 until you get it right : '))\n",
    "print('You guessed correct!')"
   ]
  },
  {
   "cell_type": "markdown",
   "metadata": {},
   "source": [
    "# Q2"
   ]
  },
  {
   "cell_type": "code",
   "execution_count": 3,
   "metadata": {},
   "outputs": [
    {
     "name": "stdout",
     "output_type": "stream",
     "text": [
      "Enter new password; include uppercase, lowercase, a number, and special character and of length between 6 and 16 characters in length: Emmsfhb@\n",
      "\n",
      "Password Strength: MEDIUM\n"
     ]
    }
   ],
   "source": [
    "user_input = input('Enter new password; include uppercase, lowercase, a number, and special character and of length between 6 and 16 characters in length: ')\n",
    "print()\n",
    "#user_input = \"\"\"Emmanuel@20\"\"\"\n",
    " \n",
    "upper = 'ABCDEFGHIJKLMNOPQRSTUVWXYZ'\n",
    "lower = upper.lower()\n",
    "numbers = '0123456789'\n",
    "char = \"\"\"~!@#$%^&_*-+=(){}[]':;\"/\\`.,<>?| \"\"\"\n",
    "length = len(user_input)\n",
    "\n",
    "verify_upper = 0\n",
    "verify_lower = 0\n",
    "verify_numbers = 0\n",
    "verify_char = 0\n",
    "verify_length = 0\n",
    "\n",
    "for i in user_input:\n",
    "    if i in upper:\n",
    "        verify_upper = 1\n",
    "    if i in lower:\n",
    "        verify_lower = 1\n",
    "    if i in numbers:\n",
    "        verify_numbers = 1\n",
    "    if i in char:\n",
    "        verify_char = 1\n",
    "    if 6 <= length <= 16:\n",
    "        verify_length = 1\n",
    "\n",
    "password_verification = verify_upper + verify_lower + verify_numbers + verify_char + verify_length\n",
    "\n",
    "if 0 <= password_verification <= 2:\n",
    "    print(\"Password Strength: WEAK\")\n",
    "elif 3<= password_verification <= 4:\n",
    "    print(\"Password Strength: MEDIUM\")\n",
    "else:\n",
    "    print(\"Password Strength: STRONG\")"
   ]
  },
  {
   "cell_type": "markdown",
   "metadata": {},
   "source": [
    "# Q3"
   ]
  },
  {
   "cell_type": "code",
   "execution_count": 15,
   "metadata": {},
   "outputs": [
    {
     "name": "stdout",
     "output_type": "stream",
     "text": [
      "Enter name: Emmanuel\n",
      "Enter age: 26\n",
      "Enter name: John\n",
      "Enter age: 19\n",
      "Enter name: David\n",
      "Enter age: 21\n",
      "\n",
      "\n",
      "Emmanuel is the oldest of age 26 years\n",
      "John is the youngest of age 19 years\n"
     ]
    }
   ],
   "source": [
    "user1_name = input('Enter name: ')\n",
    "user1_age = int(input('Enter age: '))\n",
    "user2_name = input('Enter name: ')\n",
    "user2_age = int(input('Enter age: '))\n",
    "user3_name = input('Enter name: ')\n",
    "user3_age = int(input('Enter age: '))\n",
    "#print(user1)\n",
    "print()\n",
    "\n",
    "dict_users = {}\n",
    "dict_users[user1_name] = user1_age   \n",
    "dict_users[user2_name] = user2_age\n",
    "dict_users[user3_name] = user3_age\n",
    "#print(dict_users)\n",
    "print()\n",
    "\n",
    "for k, v in dict_users.items():\n",
    "    if v >= max(dict_users.values()):\n",
    "        print(f'{k} is the oldest of age {v} years')\n",
    "    if v <= min(dict_users.values()):\n",
    "        print(f'{k} is the youngest of age {v} years')"
   ]
  },
  {
   "cell_type": "markdown",
   "metadata": {},
   "source": [
    "# Q4"
   ]
  },
  {
   "cell_type": "code",
   "execution_count": 37,
   "metadata": {},
   "outputs": [
    {
     "name": "stdout",
     "output_type": "stream",
     "text": [
      "Percentage of attendance: 87.50%\n",
      "\n",
      "Decision: Student is allowed to sit in exam\n"
     ]
    }
   ],
   "source": [
    "total_classes = 16\n",
    "classes_attended = 14\n",
    "\n",
    "attendance = (classes_attended / total_classes) * 100\n",
    "allow_exam = 'allowed to sit in exam' if attendance >= 75 else 'NOT allowed to sit in exam'\n",
    "#print(attendance)\n",
    "\n",
    "print('Percentage of attendance: %.2f%%' % attendance)\n",
    "print()\n",
    "print('Decision: Student is', allow_exam)"
   ]
  },
  {
   "cell_type": "markdown",
   "metadata": {},
   "source": [
    "# Q5"
   ]
  },
  {
   "cell_type": "code",
   "execution_count": 61,
   "metadata": {},
   "outputs": [
    {
     "name": "stdout",
     "output_type": "stream",
     "text": [
      "Enter an integer: 4\n",
      "Not Weird\n"
     ]
    }
   ],
   "source": [
    "user_input = int(input('Enter an integer: '))\n",
    "\n",
    "if user_input % 2 == 1:\n",
    "    print('weird')\n",
    "elif 2 <= user_input <= 5:\n",
    "    print('Not Weird')\n",
    "elif (user_input % 2 == 0) and (6 <= user_input <= 20):\n",
    "    print('Weird')\n",
    "elif (user_input % 2 == 0) and (user_input > 20):\n",
    "    print('Not Weird')\n",
    "else:\n",
    "    print(\"Unspecified\")"
   ]
  },
  {
   "cell_type": "code",
   "execution_count": null,
   "metadata": {},
   "outputs": [],
   "source": []
  },
  {
   "cell_type": "code",
   "execution_count": null,
   "metadata": {},
   "outputs": [],
   "source": []
  }
 ],
 "metadata": {
  "kernelspec": {
   "display_name": "Python 3",
   "language": "python",
   "name": "python3"
  },
  "language_info": {
   "codemirror_mode": {
    "name": "ipython",
    "version": 3
   },
   "file_extension": ".py",
   "mimetype": "text/x-python",
   "name": "python",
   "nbconvert_exporter": "python",
   "pygments_lexer": "ipython3",
   "version": "3.8.3"
  }
 },
 "nbformat": 4,
 "nbformat_minor": 4
}
