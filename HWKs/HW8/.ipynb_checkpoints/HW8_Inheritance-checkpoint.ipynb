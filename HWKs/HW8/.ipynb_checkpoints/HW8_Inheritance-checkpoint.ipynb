{
 "cells": [
  {
   "cell_type": "markdown",
   "metadata": {},
   "source": [
    "# HW8 Inheritance\n",
    "\n",
    "You are given two classes, Person and Student, where Person is the base class and Student is the derived class. Completed code for Person and a declaration for Student are provided for you in the editor. Observe that Student inherits all the properties of Person.\n",
    "\n",
    "Complete the Student class by writing the following:\n",
    "A Student class constructor, which has 4 parameters:\n",
    "- A string, firstName\n",
    "- A string, lastName\n",
    "- An integer, id\n",
    "An integer array (or vector) of test scores, scores\n",
    "\n",
    "A char calculate() method that calculates a Student object's average and returns the grade character representative of their calculated average:\n",
    "A | 90-100\n",
    "B | 80-89\n",
    "C | 70-79\n",
    "D | 60-69\n",
    "F | <60"
   ]
  },
  {
   "cell_type": "code",
   "execution_count": 4,
   "metadata": {},
   "outputs": [
    {
     "name": "stdout",
     "output_type": "stream",
     "text": [
      "The student named Emmanuel Dadzie with ID number 123456 \n",
      " had a grade of \"B\" in python class\n"
     ]
    }
   ],
   "source": [
    "class Person:\n",
    "    def __init__(self, firstName, LastName):\n",
    "        self.firstName = firstName\n",
    "        self.LastName = LastName\n",
    "    \n",
    "    def PrintName(self):\n",
    "        return f'{self.firstName} {self.LastName}'\n",
    "\n",
    "\n",
    "class Student(Person):\n",
    "    def __init__(self, std_FName, std_LName, Id, scores):\n",
    "        super().__init__(std_FName, std_LName)\n",
    "        self.Id = Id\n",
    "        self.scores = scores\n",
    "     \n",
    "    def Calculate_grade(self):\n",
    "        avg = sum(self.scores) // len(self.scores)\n",
    "        \n",
    "        if 90 <= avg <= 100:\n",
    "            return \"A\"\n",
    "        elif 80 <= avg <= 89:\n",
    "            return \"B\"\n",
    "        elif 70 <= avg <= 79:\n",
    "            return \"C\"\n",
    "        elif 60 <= avg <= 69:\n",
    "            return \"D\"\n",
    "        elif avg < 60:\n",
    "            return \"F\"\n",
    "\n",
    "# Create a student\n",
    "student1 = Student('Emmanuel', 'Dadzie', 123456, [89, 90])\n",
    "\n",
    "std1_name = student1.PrintName()\n",
    "std1_id = student1.Id\n",
    "std1_grade = student1.Calculate_grade()\n",
    "\n",
    "print(f'The student named {std1_name} with ID number {std1_id} \\n had a grade of \"{std1_grade}\" in python class')"
   ]
  },
  {
   "cell_type": "markdown",
   "metadata": {},
   "source": [
    "# Assessment 4\n",
    "\n",
    "=> Input\n",
    "\n",
    "STDIN     Function\n",
    "-----     --------\n",
    "5      →  radius = 5.0\n",
    "3 4    →  width = 3.0, height = 4.0\n",
    "2      →  radius = 2.0\n",
    "3.3    →  width = 3.3\n",
    "5 7.5  →  width = 5.0, height = 7.5\n",
    "\n",
    "=> Output\n",
    "\n",
    "79\n",
    "12\n",
    "13\n",
    "11\n",
    "38"
   ]
  },
  {
   "cell_type": "code",
   "execution_count": 5,
   "metadata": {},
   "outputs": [],
   "source": [
    "import math\n",
    "\n",
    "class Circle:\n",
    "    def __init__(self, radius):\n",
    "        self.radius = radius\n",
    "    \n",
    "    def getArea(self):\n",
    "        area = math.ceil(math.pi * self.radius ** 2)\n",
    "        return area \n",
    "\n",
    "class Rectangle:\n",
    "    def __init__(self, width, height):\n",
    "        self.width = width\n",
    "        self.height = height\n",
    "\n",
    "    def getArea(self):\n",
    "        area = math.ceil(self.width * self.height)\n",
    "        return area\n",
    "\n",
    "class Square:\n",
    "    def __init__(self, width):\n",
    "        self.width = width\n",
    "\n",
    "    def getArea(self):\n",
    "        area = math.ceil(self.width ** 2)\n",
    "        return area\n",
    "\n"
   ]
  },
  {
   "cell_type": "code",
   "execution_count": null,
   "metadata": {},
   "outputs": [],
   "source": []
  }
 ],
 "metadata": {
  "kernelspec": {
   "display_name": "Python 3",
   "language": "python",
   "name": "python3"
  },
  "language_info": {
   "codemirror_mode": {
    "name": "ipython",
    "version": 3
   },
   "file_extension": ".py",
   "mimetype": "text/x-python",
   "name": "python",
   "nbconvert_exporter": "python",
   "pygments_lexer": "ipython3",
   "version": "3.8.3"
  }
 },
 "nbformat": 4,
 "nbformat_minor": 4
}
