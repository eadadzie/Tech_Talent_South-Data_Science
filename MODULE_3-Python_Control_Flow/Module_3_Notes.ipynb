{
 "cells": [
  {
   "cell_type": "markdown",
   "metadata": {},
   "source": [
    "# Control Flow\n",
    "\n",
    "if-elif-else\n",
    "Conditional statements, often referred to as if-then statements, allow the programmer to execute certain pieces of code depending on some Boolean condition. A basic example of a Python conditional statement is this"
   ]
  },
  {
   "cell_type": "code",
   "execution_count": 2,
   "metadata": {
    "scrolled": true
   },
   "outputs": [
    {
     "name": "stdout",
     "output_type": "stream",
     "text": [
      "5 is positive\n"
     ]
    }
   ],
   "source": [
    "x = 5\n",
    "\n",
    "if x == 0:\n",
    "    print(x, \"is zero\")\n",
    "elif x > 0:\n",
    "    print(x, \"is positive\")\n",
    "elif x < 0:\n",
    "    print(x, \"is negative\")\n",
    "else:\n",
    "    print(x, \"is unlike anything I've ever seen...\")"
   ]
  },
  {
   "cell_type": "markdown",
   "metadata": {},
   "source": [
    "# For loop\n",
    "\n",
    "Loops in Python are a way to repeatedly execute some code statement. So, for example, if we'd like to print each of the items in a list, we can use a for loop:"
   ]
  },
  {
   "cell_type": "code",
   "execution_count": 3,
   "metadata": {},
   "outputs": [
    {
     "name": "stdout",
     "output_type": "stream",
     "text": [
      "2 3 5 7 "
     ]
    }
   ],
   "source": [
    "for N in [2, 3, 5, 7]:\n",
    "    print(N, end=' ') # print all on same line"
   ]
  },
  {
   "cell_type": "markdown",
   "metadata": {},
   "source": [
    "Notice the simplicity of the for loop: we specify the variable we want to use, the sequence we want to loop over, and use the \"in\" operator to link them together in an intuitive and readable way. More precisely, the object to the right of the \"in\" can be any Python iterator. An iterator can be thought of as a generalized sequence, and we'll discuss them in Iterators.\n",
    "\n",
    "For example, one of the most commonly-used iterators in Python is the range object, which generates a sequence of numbers:"
   ]
  },
  {
   "cell_type": "code",
   "execution_count": null,
   "metadata": {},
   "outputs": [],
   "source": [
    "for i in range(10):\n",
    "    print(i, end=' ')"
   ]
  },
  {
   "cell_type": "markdown",
   "metadata": {},
   "source": [
    "Note that the range starts at zero by default, and that by convention the top of the range is not included in the output. Range objects can also have more complicated values:"
   ]
  },
  {
   "cell_type": "code",
   "execution_count": null,
   "metadata": {},
   "outputs": [],
   "source": [
    "# range from 5 to 10\n",
    "list(range(5, 10))"
   ]
  },
  {
   "cell_type": "markdown",
   "metadata": {},
   "source": [
    "# While loops\n",
    "\n",
    "The other type of loop in Python is a while loop, which iterates until some condition is met:"
   ]
  },
  {
   "cell_type": "code",
   "execution_count": null,
   "metadata": {},
   "outputs": [],
   "source": [
    "i = 0\n",
    "while i < 10:\n",
    "    print(i, end=' ')\n",
    "    i += 1"
   ]
  },
  {
   "cell_type": "markdown",
   "metadata": {},
   "source": [
    "# Break and Continue\n",
    "There are two useful statements that can be used within loops to fine-tune how they are executed:\n",
    "\n",
    "* The break statement breaks-out of the loop entirely\n",
    "* The continue statement skips the remainder of the current loop, and goes to the next iteration\n",
    "These can be used in both for and while loops.\n",
    "\n",
    "Here is an example of using continue to print a string of odd numbers. In this case, the result could be accomplished just as well with an if-else statement, but sometimes the continue statement can be a more convenient way to express the idea you have in mind:"
   ]
  },
  {
   "cell_type": "code",
   "execution_count": 4,
   "metadata": {},
   "outputs": [
    {
     "name": "stdout",
     "output_type": "stream",
     "text": [
      "1 3 5 7 9 11 13 15 17 19 "
     ]
    }
   ],
   "source": [
    "for n in range(20):\n",
    "    # if the remainder of n / 2 is 0, skip the rest of the loop\n",
    "    if n % 2 == 0:\n",
    "        continue\n",
    "    print(n, end=' ')"
   ]
  },
  {
   "cell_type": "markdown",
   "metadata": {},
   "source": [
    "# nfnfn"
   ]
  },
  {
   "cell_type": "code",
   "execution_count": 9,
   "metadata": {
    "scrolled": true
   },
   "outputs": [
    {
     "name": "stdout",
     "output_type": "stream",
     "text": [
      "a: 1\n",
      "b: 1\n",
      "a: 1\n",
      "b: 2\n",
      "a: 2\n",
      "b: 3\n",
      "a: 3\n",
      "b: 5\n",
      "a: 5\n",
      "b: 8\n",
      "a: 8\n",
      "b: 13\n",
      "a: 13\n",
      "b: 21\n",
      "a: 21\n",
      "b: 34\n",
      "a: 34\n",
      "b: 55\n",
      "a: 55\n",
      "b: 89\n",
      "a: 89\n",
      "b: 144\n",
      "a: 144\n",
      "b: 233\n",
      "[1, 1, 2, 3, 5, 8, 13, 21, 34, 55, 89]\n"
     ]
    }
   ],
   "source": [
    "a, b = 0, 1\n",
    "amax = 100\n",
    "L = []\n",
    "\n",
    "while True:\n",
    "    (a, b) = (b, a + b)\n",
    "    print('a:', a)\n",
    "    print('b:', b)\n",
    "    if a > amax:\n",
    "        break\n",
    "    L.append(a)\n",
    "\n",
    "print(L)"
   ]
  },
  {
   "cell_type": "markdown",
   "metadata": {},
   "source": [
    "# Loops with an else Block\n",
    "One rarely used pattern available in Python is the else statement as part of a for or while loop. We discussed the else block earlier: it executes if all the if and elif statements evaluate to False. The loop-else is perhaps one of the more confusingly-named statements in Python; I prefer to think of it as a nobreak statement: that is, the else block is executed only if the loop ends naturally, without encountering a break statement.\n",
    "\n",
    "As an example of where this might be useful, consider the following (non-optimized) implementation of the Sieve of Eratosthenes, a well-known algorithm for finding prime numbers:"
   ]
  },
  {
   "cell_type": "code",
   "execution_count": 22,
   "metadata": {},
   "outputs": [
    {
     "name": "stdout",
     "output_type": "stream",
     "text": [
      "n: [2]\n",
      "n: [2, 3]\n",
      "factor: [2]\n",
      "n: [2, 3, 4]\n",
      "factor: [2, 2]\n",
      "break\n",
      "n: [2, 3, 4, 5]\n",
      "factor: [2, 2, 2]\n",
      "factor: [2, 2, 2, 3]\n",
      "n: [2, 3, 4, 5, 6]\n",
      "factor: [2, 2, 2, 3, 2]\n",
      "break\n",
      "n: [2, 3, 4, 5, 6, 7]\n",
      "factor: [2, 2, 2, 3, 2, 2]\n",
      "factor: [2, 2, 2, 3, 2, 2, 3]\n",
      "factor: [2, 2, 2, 3, 2, 2, 3, 5]\n",
      "n: [2, 3, 4, 5, 6, 7, 8]\n",
      "factor: [2, 2, 2, 3, 2, 2, 3, 5, 2]\n",
      "break\n",
      "n: [2, 3, 4, 5, 6, 7, 8, 9]\n",
      "factor: [2, 2, 2, 3, 2, 2, 3, 5, 2, 2]\n",
      "factor: [2, 2, 2, 3, 2, 2, 3, 5, 2, 2, 3]\n",
      "break\n",
      "n: [2, 3, 4, 5, 6, 7, 8, 9, 10]\n",
      "factor: [2, 2, 2, 3, 2, 2, 3, 5, 2, 2, 3, 2]\n",
      "break\n",
      "n: [2, 3, 4, 5, 6, 7, 8, 9, 10, 11]\n",
      "factor: [2, 2, 2, 3, 2, 2, 3, 5, 2, 2, 3, 2, 2]\n",
      "factor: [2, 2, 2, 3, 2, 2, 3, 5, 2, 2, 3, 2, 2, 3]\n",
      "factor: [2, 2, 2, 3, 2, 2, 3, 5, 2, 2, 3, 2, 2, 3, 5]\n",
      "factor: [2, 2, 2, 3, 2, 2, 3, 5, 2, 2, 3, 2, 2, 3, 5, 7]\n",
      "n: [2, 3, 4, 5, 6, 7, 8, 9, 10, 11, 12]\n",
      "factor: [2, 2, 2, 3, 2, 2, 3, 5, 2, 2, 3, 2, 2, 3, 5, 7, 2]\n",
      "break\n",
      "n: [2, 3, 4, 5, 6, 7, 8, 9, 10, 11, 12, 13]\n",
      "factor: [2, 2, 2, 3, 2, 2, 3, 5, 2, 2, 3, 2, 2, 3, 5, 7, 2, 2]\n",
      "factor: [2, 2, 2, 3, 2, 2, 3, 5, 2, 2, 3, 2, 2, 3, 5, 7, 2, 2, 3]\n",
      "factor: [2, 2, 2, 3, 2, 2, 3, 5, 2, 2, 3, 2, 2, 3, 5, 7, 2, 2, 3, 5]\n",
      "factor: [2, 2, 2, 3, 2, 2, 3, 5, 2, 2, 3, 2, 2, 3, 5, 7, 2, 2, 3, 5, 7]\n",
      "factor: [2, 2, 2, 3, 2, 2, 3, 5, 2, 2, 3, 2, 2, 3, 5, 7, 2, 2, 3, 5, 7, 11]\n",
      "n: [2, 3, 4, 5, 6, 7, 8, 9, 10, 11, 12, 13, 14]\n",
      "factor: [2, 2, 2, 3, 2, 2, 3, 5, 2, 2, 3, 2, 2, 3, 5, 7, 2, 2, 3, 5, 7, 11, 2]\n",
      "break\n",
      "n: [2, 3, 4, 5, 6, 7, 8, 9, 10, 11, 12, 13, 14, 15]\n",
      "factor: [2, 2, 2, 3, 2, 2, 3, 5, 2, 2, 3, 2, 2, 3, 5, 7, 2, 2, 3, 5, 7, 11, 2, 2]\n",
      "factor: [2, 2, 2, 3, 2, 2, 3, 5, 2, 2, 3, 2, 2, 3, 5, 7, 2, 2, 3, 5, 7, 11, 2, 2, 3]\n",
      "break\n",
      "n: [2, 3, 4, 5, 6, 7, 8, 9, 10, 11, 12, 13, 14, 15, 16]\n",
      "factor: [2, 2, 2, 3, 2, 2, 3, 5, 2, 2, 3, 2, 2, 3, 5, 7, 2, 2, 3, 5, 7, 11, 2, 2, 3, 2]\n",
      "break\n",
      "n: [2, 3, 4, 5, 6, 7, 8, 9, 10, 11, 12, 13, 14, 15, 16, 17]\n",
      "factor: [2, 2, 2, 3, 2, 2, 3, 5, 2, 2, 3, 2, 2, 3, 5, 7, 2, 2, 3, 5, 7, 11, 2, 2, 3, 2, 2]\n",
      "factor: [2, 2, 2, 3, 2, 2, 3, 5, 2, 2, 3, 2, 2, 3, 5, 7, 2, 2, 3, 5, 7, 11, 2, 2, 3, 2, 2, 3]\n",
      "factor: [2, 2, 2, 3, 2, 2, 3, 5, 2, 2, 3, 2, 2, 3, 5, 7, 2, 2, 3, 5, 7, 11, 2, 2, 3, 2, 2, 3, 5]\n",
      "factor: [2, 2, 2, 3, 2, 2, 3, 5, 2, 2, 3, 2, 2, 3, 5, 7, 2, 2, 3, 5, 7, 11, 2, 2, 3, 2, 2, 3, 5, 7]\n",
      "factor: [2, 2, 2, 3, 2, 2, 3, 5, 2, 2, 3, 2, 2, 3, 5, 7, 2, 2, 3, 5, 7, 11, 2, 2, 3, 2, 2, 3, 5, 7, 11]\n",
      "factor: [2, 2, 2, 3, 2, 2, 3, 5, 2, 2, 3, 2, 2, 3, 5, 7, 2, 2, 3, 5, 7, 11, 2, 2, 3, 2, 2, 3, 5, 7, 11, 13]\n",
      "n: [2, 3, 4, 5, 6, 7, 8, 9, 10, 11, 12, 13, 14, 15, 16, 17, 18]\n",
      "factor: [2, 2, 2, 3, 2, 2, 3, 5, 2, 2, 3, 2, 2, 3, 5, 7, 2, 2, 3, 5, 7, 11, 2, 2, 3, 2, 2, 3, 5, 7, 11, 13, 2]\n",
      "break\n",
      "n: [2, 3, 4, 5, 6, 7, 8, 9, 10, 11, 12, 13, 14, 15, 16, 17, 18, 19]\n",
      "factor: [2, 2, 2, 3, 2, 2, 3, 5, 2, 2, 3, 2, 2, 3, 5, 7, 2, 2, 3, 5, 7, 11, 2, 2, 3, 2, 2, 3, 5, 7, 11, 13, 2, 2]\n",
      "factor: [2, 2, 2, 3, 2, 2, 3, 5, 2, 2, 3, 2, 2, 3, 5, 7, 2, 2, 3, 5, 7, 11, 2, 2, 3, 2, 2, 3, 5, 7, 11, 13, 2, 2, 3]\n",
      "factor: [2, 2, 2, 3, 2, 2, 3, 5, 2, 2, 3, 2, 2, 3, 5, 7, 2, 2, 3, 5, 7, 11, 2, 2, 3, 2, 2, 3, 5, 7, 11, 13, 2, 2, 3, 5]\n",
      "factor: [2, 2, 2, 3, 2, 2, 3, 5, 2, 2, 3, 2, 2, 3, 5, 7, 2, 2, 3, 5, 7, 11, 2, 2, 3, 2, 2, 3, 5, 7, 11, 13, 2, 2, 3, 5, 7]\n",
      "factor: [2, 2, 2, 3, 2, 2, 3, 5, 2, 2, 3, 2, 2, 3, 5, 7, 2, 2, 3, 5, 7, 11, 2, 2, 3, 2, 2, 3, 5, 7, 11, 13, 2, 2, 3, 5, 7, 11]\n",
      "factor: [2, 2, 2, 3, 2, 2, 3, 5, 2, 2, 3, 2, 2, 3, 5, 7, 2, 2, 3, 5, 7, 11, 2, 2, 3, 2, 2, 3, 5, 7, 11, 13, 2, 2, 3, 5, 7, 11, 13]\n",
      "factor: [2, 2, 2, 3, 2, 2, 3, 5, 2, 2, 3, 2, 2, 3, 5, 7, 2, 2, 3, 5, 7, 11, 2, 2, 3, 2, 2, 3, 5, 7, 11, 13, 2, 2, 3, 5, 7, 11, 13, 17]\n",
      "n: [2, 3, 4, 5, 6, 7, 8, 9, 10, 11, 12, 13, 14, 15, 16, 17, 18, 19, 20]\n",
      "factor: [2, 2, 2, 3, 2, 2, 3, 5, 2, 2, 3, 2, 2, 3, 5, 7, 2, 2, 3, 5, 7, 11, 2, 2, 3, 2, 2, 3, 5, 7, 11, 13, 2, 2, 3, 5, 7, 11, 13, 17, 2]\n",
      "break\n",
      "n: [2, 3, 4, 5, 6, 7, 8, 9, 10, 11, 12, 13, 14, 15, 16, 17, 18, 19, 20, 21]\n",
      "factor: [2, 2, 2, 3, 2, 2, 3, 5, 2, 2, 3, 2, 2, 3, 5, 7, 2, 2, 3, 5, 7, 11, 2, 2, 3, 2, 2, 3, 5, 7, 11, 13, 2, 2, 3, 5, 7, 11, 13, 17, 2, 2]\n",
      "factor: [2, 2, 2, 3, 2, 2, 3, 5, 2, 2, 3, 2, 2, 3, 5, 7, 2, 2, 3, 5, 7, 11, 2, 2, 3, 2, 2, 3, 5, 7, 11, 13, 2, 2, 3, 5, 7, 11, 13, 17, 2, 2, 3]\n",
      "break\n",
      "n: [2, 3, 4, 5, 6, 7, 8, 9, 10, 11, 12, 13, 14, 15, 16, 17, 18, 19, 20, 21, 22]\n",
      "factor: [2, 2, 2, 3, 2, 2, 3, 5, 2, 2, 3, 2, 2, 3, 5, 7, 2, 2, 3, 5, 7, 11, 2, 2, 3, 2, 2, 3, 5, 7, 11, 13, 2, 2, 3, 5, 7, 11, 13, 17, 2, 2, 3, 2]\n",
      "break\n",
      "n: [2, 3, 4, 5, 6, 7, 8, 9, 10, 11, 12, 13, 14, 15, 16, 17, 18, 19, 20, 21, 22, 23]\n",
      "factor: [2, 2, 2, 3, 2, 2, 3, 5, 2, 2, 3, 2, 2, 3, 5, 7, 2, 2, 3, 5, 7, 11, 2, 2, 3, 2, 2, 3, 5, 7, 11, 13, 2, 2, 3, 5, 7, 11, 13, 17, 2, 2, 3, 2, 2]\n",
      "factor: [2, 2, 2, 3, 2, 2, 3, 5, 2, 2, 3, 2, 2, 3, 5, 7, 2, 2, 3, 5, 7, 11, 2, 2, 3, 2, 2, 3, 5, 7, 11, 13, 2, 2, 3, 5, 7, 11, 13, 17, 2, 2, 3, 2, 2, 3]\n",
      "factor: [2, 2, 2, 3, 2, 2, 3, 5, 2, 2, 3, 2, 2, 3, 5, 7, 2, 2, 3, 5, 7, 11, 2, 2, 3, 2, 2, 3, 5, 7, 11, 13, 2, 2, 3, 5, 7, 11, 13, 17, 2, 2, 3, 2, 2, 3, 5]\n",
      "factor: [2, 2, 2, 3, 2, 2, 3, 5, 2, 2, 3, 2, 2, 3, 5, 7, 2, 2, 3, 5, 7, 11, 2, 2, 3, 2, 2, 3, 5, 7, 11, 13, 2, 2, 3, 5, 7, 11, 13, 17, 2, 2, 3, 2, 2, 3, 5, 7]\n",
      "factor: [2, 2, 2, 3, 2, 2, 3, 5, 2, 2, 3, 2, 2, 3, 5, 7, 2, 2, 3, 5, 7, 11, 2, 2, 3, 2, 2, 3, 5, 7, 11, 13, 2, 2, 3, 5, 7, 11, 13, 17, 2, 2, 3, 2, 2, 3, 5, 7, 11]\n",
      "factor: [2, 2, 2, 3, 2, 2, 3, 5, 2, 2, 3, 2, 2, 3, 5, 7, 2, 2, 3, 5, 7, 11, 2, 2, 3, 2, 2, 3, 5, 7, 11, 13, 2, 2, 3, 5, 7, 11, 13, 17, 2, 2, 3, 2, 2, 3, 5, 7, 11, 13]\n",
      "factor: [2, 2, 2, 3, 2, 2, 3, 5, 2, 2, 3, 2, 2, 3, 5, 7, 2, 2, 3, 5, 7, 11, 2, 2, 3, 2, 2, 3, 5, 7, 11, 13, 2, 2, 3, 5, 7, 11, 13, 17, 2, 2, 3, 2, 2, 3, 5, 7, 11, 13, 17]\n",
      "factor: [2, 2, 2, 3, 2, 2, 3, 5, 2, 2, 3, 2, 2, 3, 5, 7, 2, 2, 3, 5, 7, 11, 2, 2, 3, 2, 2, 3, 5, 7, 11, 13, 2, 2, 3, 5, 7, 11, 13, 17, 2, 2, 3, 2, 2, 3, 5, 7, 11, 13, 17, 19]\n",
      "n: [2, 3, 4, 5, 6, 7, 8, 9, 10, 11, 12, 13, 14, 15, 16, 17, 18, 19, 20, 21, 22, 23, 24]\n",
      "factor: [2, 2, 2, 3, 2, 2, 3, 5, 2, 2, 3, 2, 2, 3, 5, 7, 2, 2, 3, 5, 7, 11, 2, 2, 3, 2, 2, 3, 5, 7, 11, 13, 2, 2, 3, 5, 7, 11, 13, 17, 2, 2, 3, 2, 2, 3, 5, 7, 11, 13, 17, 19, 2]\n",
      "break\n",
      "n: [2, 3, 4, 5, 6, 7, 8, 9, 10, 11, 12, 13, 14, 15, 16, 17, 18, 19, 20, 21, 22, 23, 24, 25]\n",
      "factor: [2, 2, 2, 3, 2, 2, 3, 5, 2, 2, 3, 2, 2, 3, 5, 7, 2, 2, 3, 5, 7, 11, 2, 2, 3, 2, 2, 3, 5, 7, 11, 13, 2, 2, 3, 5, 7, 11, 13, 17, 2, 2, 3, 2, 2, 3, 5, 7, 11, 13, 17, 19, 2, 2]\n",
      "factor: [2, 2, 2, 3, 2, 2, 3, 5, 2, 2, 3, 2, 2, 3, 5, 7, 2, 2, 3, 5, 7, 11, 2, 2, 3, 2, 2, 3, 5, 7, 11, 13, 2, 2, 3, 5, 7, 11, 13, 17, 2, 2, 3, 2, 2, 3, 5, 7, 11, 13, 17, 19, 2, 2, 3]\n",
      "factor: [2, 2, 2, 3, 2, 2, 3, 5, 2, 2, 3, 2, 2, 3, 5, 7, 2, 2, 3, 5, 7, 11, 2, 2, 3, 2, 2, 3, 5, 7, 11, 13, 2, 2, 3, 5, 7, 11, 13, 17, 2, 2, 3, 2, 2, 3, 5, 7, 11, 13, 17, 19, 2, 2, 3, 5]\n",
      "break\n",
      "n: [2, 3, 4, 5, 6, 7, 8, 9, 10, 11, 12, 13, 14, 15, 16, 17, 18, 19, 20, 21, 22, 23, 24, 25, 26]\n",
      "factor: [2, 2, 2, 3, 2, 2, 3, 5, 2, 2, 3, 2, 2, 3, 5, 7, 2, 2, 3, 5, 7, 11, 2, 2, 3, 2, 2, 3, 5, 7, 11, 13, 2, 2, 3, 5, 7, 11, 13, 17, 2, 2, 3, 2, 2, 3, 5, 7, 11, 13, 17, 19, 2, 2, 3, 5, 2]\n",
      "break\n",
      "n: [2, 3, 4, 5, 6, 7, 8, 9, 10, 11, 12, 13, 14, 15, 16, 17, 18, 19, 20, 21, 22, 23, 24, 25, 26, 27]\n",
      "factor: [2, 2, 2, 3, 2, 2, 3, 5, 2, 2, 3, 2, 2, 3, 5, 7, 2, 2, 3, 5, 7, 11, 2, 2, 3, 2, 2, 3, 5, 7, 11, 13, 2, 2, 3, 5, 7, 11, 13, 17, 2, 2, 3, 2, 2, 3, 5, 7, 11, 13, 17, 19, 2, 2, 3, 5, 2, 2]\n",
      "factor: [2, 2, 2, 3, 2, 2, 3, 5, 2, 2, 3, 2, 2, 3, 5, 7, 2, 2, 3, 5, 7, 11, 2, 2, 3, 2, 2, 3, 5, 7, 11, 13, 2, 2, 3, 5, 7, 11, 13, 17, 2, 2, 3, 2, 2, 3, 5, 7, 11, 13, 17, 19, 2, 2, 3, 5, 2, 2, 3]\n",
      "break\n",
      "n: [2, 3, 4, 5, 6, 7, 8, 9, 10, 11, 12, 13, 14, 15, 16, 17, 18, 19, 20, 21, 22, 23, 24, 25, 26, 27, 28]\n",
      "factor: [2, 2, 2, 3, 2, 2, 3, 5, 2, 2, 3, 2, 2, 3, 5, 7, 2, 2, 3, 5, 7, 11, 2, 2, 3, 2, 2, 3, 5, 7, 11, 13, 2, 2, 3, 5, 7, 11, 13, 17, 2, 2, 3, 2, 2, 3, 5, 7, 11, 13, 17, 19, 2, 2, 3, 5, 2, 2, 3, 2]\n",
      "break\n",
      "n: [2, 3, 4, 5, 6, 7, 8, 9, 10, 11, 12, 13, 14, 15, 16, 17, 18, 19, 20, 21, 22, 23, 24, 25, 26, 27, 28, 29]\n",
      "factor: [2, 2, 2, 3, 2, 2, 3, 5, 2, 2, 3, 2, 2, 3, 5, 7, 2, 2, 3, 5, 7, 11, 2, 2, 3, 2, 2, 3, 5, 7, 11, 13, 2, 2, 3, 5, 7, 11, 13, 17, 2, 2, 3, 2, 2, 3, 5, 7, 11, 13, 17, 19, 2, 2, 3, 5, 2, 2, 3, 2, 2]\n",
      "factor: [2, 2, 2, 3, 2, 2, 3, 5, 2, 2, 3, 2, 2, 3, 5, 7, 2, 2, 3, 5, 7, 11, 2, 2, 3, 2, 2, 3, 5, 7, 11, 13, 2, 2, 3, 5, 7, 11, 13, 17, 2, 2, 3, 2, 2, 3, 5, 7, 11, 13, 17, 19, 2, 2, 3, 5, 2, 2, 3, 2, 2, 3]\n",
      "factor: [2, 2, 2, 3, 2, 2, 3, 5, 2, 2, 3, 2, 2, 3, 5, 7, 2, 2, 3, 5, 7, 11, 2, 2, 3, 2, 2, 3, 5, 7, 11, 13, 2, 2, 3, 5, 7, 11, 13, 17, 2, 2, 3, 2, 2, 3, 5, 7, 11, 13, 17, 19, 2, 2, 3, 5, 2, 2, 3, 2, 2, 3, 5]\n",
      "factor: [2, 2, 2, 3, 2, 2, 3, 5, 2, 2, 3, 2, 2, 3, 5, 7, 2, 2, 3, 5, 7, 11, 2, 2, 3, 2, 2, 3, 5, 7, 11, 13, 2, 2, 3, 5, 7, 11, 13, 17, 2, 2, 3, 2, 2, 3, 5, 7, 11, 13, 17, 19, 2, 2, 3, 5, 2, 2, 3, 2, 2, 3, 5, 7]\n",
      "factor: [2, 2, 2, 3, 2, 2, 3, 5, 2, 2, 3, 2, 2, 3, 5, 7, 2, 2, 3, 5, 7, 11, 2, 2, 3, 2, 2, 3, 5, 7, 11, 13, 2, 2, 3, 5, 7, 11, 13, 17, 2, 2, 3, 2, 2, 3, 5, 7, 11, 13, 17, 19, 2, 2, 3, 5, 2, 2, 3, 2, 2, 3, 5, 7, 11]\n",
      "factor: [2, 2, 2, 3, 2, 2, 3, 5, 2, 2, 3, 2, 2, 3, 5, 7, 2, 2, 3, 5, 7, 11, 2, 2, 3, 2, 2, 3, 5, 7, 11, 13, 2, 2, 3, 5, 7, 11, 13, 17, 2, 2, 3, 2, 2, 3, 5, 7, 11, 13, 17, 19, 2, 2, 3, 5, 2, 2, 3, 2, 2, 3, 5, 7, 11, 13]\n",
      "factor: [2, 2, 2, 3, 2, 2, 3, 5, 2, 2, 3, 2, 2, 3, 5, 7, 2, 2, 3, 5, 7, 11, 2, 2, 3, 2, 2, 3, 5, 7, 11, 13, 2, 2, 3, 5, 7, 11, 13, 17, 2, 2, 3, 2, 2, 3, 5, 7, 11, 13, 17, 19, 2, 2, 3, 5, 2, 2, 3, 2, 2, 3, 5, 7, 11, 13, 17]\n",
      "factor: [2, 2, 2, 3, 2, 2, 3, 5, 2, 2, 3, 2, 2, 3, 5, 7, 2, 2, 3, 5, 7, 11, 2, 2, 3, 2, 2, 3, 5, 7, 11, 13, 2, 2, 3, 5, 7, 11, 13, 17, 2, 2, 3, 2, 2, 3, 5, 7, 11, 13, 17, 19, 2, 2, 3, 5, 2, 2, 3, 2, 2, 3, 5, 7, 11, 13, 17, 19]\n",
      "factor: [2, 2, 2, 3, 2, 2, 3, 5, 2, 2, 3, 2, 2, 3, 5, 7, 2, 2, 3, 5, 7, 11, 2, 2, 3, 2, 2, 3, 5, 7, 11, 13, 2, 2, 3, 5, 7, 11, 13, 17, 2, 2, 3, 2, 2, 3, 5, 7, 11, 13, 17, 19, 2, 2, 3, 5, 2, 2, 3, 2, 2, 3, 5, 7, 11, 13, 17, 19, 23]\n",
      "[2, 3, 5, 7, 11, 13, 17, 19, 23, 29]\n"
     ]
    }
   ],
   "source": [
    "L = []\n",
    "nmax = 30\n",
    "fact_list = []\n",
    "n_list = []\n",
    "for n in range(2, nmax):\n",
    "    n_list.append(n)\n",
    "    print('n:', n_list)\n",
    "    for factor in L:\n",
    "        fact_list.append(factor)\n",
    "        print('factor:', fact_list)\n",
    "        if n % factor == 0:\n",
    "            print('break')\n",
    "            break\n",
    "    else: # no break\n",
    "        L.append(n)\n",
    "print(L)"
   ]
  },
  {
   "cell_type": "markdown",
   "metadata": {},
   "source": [
    "# Decision making with the if statement\n"
   ]
  },
  {
   "cell_type": "code",
   "execution_count": 20,
   "metadata": {},
   "outputs": [
    {
     "name": "stdout",
     "output_type": "stream",
     "text": [
      "Give an integer: 25\n",
      "The absolute value of 25 is 25\n",
      "Give a number: -25\n",
      "c is negative\n"
     ]
    }
   ],
   "source": [
    "x=input(\"Give an integer: \")\n",
    "x=int(x)\n",
    "if x >= 0:\n",
    "    a=x\n",
    "else:\n",
    "    a=-x\n",
    "print(\"The absolute value of %i is %i\" % (x, a))\n",
    "c=float(input(\"Give a number: \"))\n",
    "if c > 0:\n",
    "    print(\"c is positive\")\n",
    "elif c<0:\n",
    "    print(\"c is negative\")\n",
    "else:\n",
    "    print(\"c is zero\")\n"
   ]
  },
  {
   "cell_type": "code",
   "execution_count": 26,
   "metadata": {},
   "outputs": [
    {
     "name": "stdout",
     "output_type": "stream",
     "text": [
      "6\n",
      "The docstring is: None\n"
     ]
    }
   ],
   "source": [
    "def double(x):\n",
    "    return 2 * x\n",
    "\n",
    "print(double(3))\n",
    "\n",
    "print(\"The docstring is:\", double.__doc__)"
   ]
  },
  {
   "cell_type": "code",
   "execution_count": 30,
   "metadata": {},
   "outputs": [
    {
     "name": "stdout",
     "output_type": "stream",
     "text": [
      "Help on built-in function print in module builtins:\n",
      "\n",
      "print(...)\n",
      "    print(value, ..., sep=' ', end='\\n', file=sys.stdout, flush=False)\n",
      "    \n",
      "    Prints the values to a stream, or to sys.stdout by default.\n",
      "    Optional keyword arguments:\n",
      "    file:  a file-like object (stream); defaults to the current sys.stdout.\n",
      "    sep:   string inserted between values, default a space.\n",
      "    end:   string appended after the last value, default a newline.\n",
      "    flush: whether to forcibly flush the stream.\n",
      "\n",
      "\n",
      "Help on function double in module __main__:\n",
      "\n",
      "double(x)\n",
      "\n"
     ]
    }
   ],
   "source": [
    "help(print)\n",
    "print()\n",
    "help(double)"
   ]
  },
  {
   "cell_type": "code",
   "execution_count": 28,
   "metadata": {},
   "outputs": [
    {
     "name": "stdout",
     "output_type": "stream",
     "text": [
      "1 -*- 2 -*- 3 |first -*- second -*- third |"
     ]
    }
   ],
   "source": [
    "print(1,2,3, end=' |', sep=' -*- ')\n",
    "print('first', 'second', 'third', end=' |', sep=' -*- ')"
   ]
  },
  {
   "cell_type": "code",
   "execution_count": 46,
   "metadata": {},
   "outputs": [
    {
     "name": "stdout",
     "output_type": "stream",
     "text": [
      "5.0\n",
      "4.334546600055874\n"
     ]
    }
   ],
   "source": [
    "def length(*t, degree=2):\n",
    "    s=0\n",
    "    for x in t:\n",
    "        s += abs(x) ** degree\n",
    "    return s**(1/degree)\n",
    "\n",
    "print(length(-4,-3))\n",
    "print(length(-4,3,2, degree=4))"
   ]
  },
  {
   "cell_type": "code",
   "execution_count": 47,
   "metadata": {},
   "outputs": [
    {
     "name": "stdout",
     "output_type": "stream",
     "text": [
      "3\n",
      "2\n"
     ]
    }
   ],
   "source": [
    "def f():            # outer function\n",
    "    b=2\n",
    "    def g():        # inner function\n",
    "        # nonlocal b # Without this nonlocal statement,\n",
    "        b=3         # this will create a new local variable\n",
    "        print(b)\n",
    "    g()\n",
    "    print(b)\n",
    "f()\n"
   ]
  },
  {
   "cell_type": "markdown",
   "metadata": {},
   "source": [
    "# Recursion in Python"
   ]
  },
  {
   "cell_type": "code",
   "execution_count": 53,
   "metadata": {},
   "outputs": [
    {
     "name": "stdout",
     "output_type": "stream",
     "text": [
      "Move disk 1 from source A to destination B\n",
      "Move disk 2 from source A to destination C\n",
      "Move disk 1 from source B to destination C\n",
      "Move disk 3 from source A to destination B\n",
      "Move disk 1 from source C to destination A\n",
      "Move disk 2 from source C to destination B\n",
      "Move disk 1 from source A to destination B\n"
     ]
    }
   ],
   "source": [
    "def TowerOfHanoi(n, source, destination, auxilliary):\n",
    "    if n==1:\n",
    "        print('Move disk 1 from source', source, 'to destination', destination)\n",
    "        return\n",
    "    TowerOfHanoi(n-1, source, auxilliary, destination)\n",
    "    print('Move disk', n, 'from source', source, 'to destination', destination)\n",
    "    TowerOfHanoi(n-1, auxilliary, destination, source)\n",
    "    \n",
    "# Driver code\n",
    "n = 3\n",
    "TowerOfHanoi(n, 'A', 'B', 'C')"
   ]
  },
  {
   "cell_type": "code",
   "execution_count": null,
   "metadata": {},
   "outputs": [],
   "source": []
  }
 ],
 "metadata": {
  "kernelspec": {
   "display_name": "Python 3",
   "language": "python",
   "name": "python3"
  },
  "language_info": {
   "codemirror_mode": {
    "name": "ipython",
    "version": 3
   },
   "file_extension": ".py",
   "mimetype": "text/x-python",
   "name": "python",
   "nbconvert_exporter": "python",
   "pygments_lexer": "ipython3",
   "version": "3.8.3"
  }
 },
 "nbformat": 4,
 "nbformat_minor": 4
}
