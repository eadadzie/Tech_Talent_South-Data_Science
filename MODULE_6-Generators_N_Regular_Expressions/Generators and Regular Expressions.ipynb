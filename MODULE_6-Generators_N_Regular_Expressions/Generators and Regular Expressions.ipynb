{
 "cells": [
  {
   "cell_type": "markdown",
   "metadata": {},
   "source": [
    "# List comprehensions use square brackets, while generator expressions use parentheses"
   ]
  },
  {
   "cell_type": "code",
   "execution_count": 1,
   "metadata": {},
   "outputs": [
    {
     "data": {
      "text/plain": [
       "[0, 1, 4, 9, 16, 25, 36, 49, 64, 81, 100, 121]"
      ]
     },
     "execution_count": 1,
     "metadata": {},
     "output_type": "execute_result"
    }
   ],
   "source": [
    "[n ** 2 for n in range(12)]"
   ]
  },
  {
   "cell_type": "code",
   "execution_count": 2,
   "metadata": {},
   "outputs": [
    {
     "data": {
      "text/plain": [
       "<generator object <genexpr> at 0x0000026613C90EB0>"
      ]
     },
     "execution_count": 2,
     "metadata": {},
     "output_type": "execute_result"
    }
   ],
   "source": [
    "(n ** 2 for n in range(12))"
   ]
  },
  {
   "cell_type": "code",
   "execution_count": 3,
   "metadata": {},
   "outputs": [
    {
     "data": {
      "text/plain": [
       "[0, 1, 4, 9, 16, 25, 36, 49, 64, 81, 100, 121]"
      ]
     },
     "execution_count": 3,
     "metadata": {},
     "output_type": "execute_result"
    }
   ],
   "source": [
    "G = (n ** 2 for n in range(12))\n",
    "list(G)"
   ]
  },
  {
   "cell_type": "markdown",
   "metadata": {},
   "source": [
    "# A list is a collection of values, while a generator is a recipe for producing values"
   ]
  },
  {
   "cell_type": "code",
   "execution_count": 4,
   "metadata": {},
   "outputs": [
    {
     "name": "stdout",
     "output_type": "stream",
     "text": [
      "0 1 4 9 16 25 36 49 64 81 100 121 "
     ]
    }
   ],
   "source": [
    "L = [n ** 2 for n in range(12)]\n",
    "for val in L:\n",
    "    print(val, end=' ')"
   ]
  },
  {
   "cell_type": "code",
   "execution_count": 5,
   "metadata": {},
   "outputs": [
    {
     "name": "stdout",
     "output_type": "stream",
     "text": [
      "0 1 4 9 16 25 36 49 64 81 100 121 "
     ]
    }
   ],
   "source": [
    "G = (n ** 2 for n in range(12))\n",
    "for val in G:\n",
    "    print(val, end=' ')"
   ]
  },
  {
   "cell_type": "code",
   "execution_count": 6,
   "metadata": {},
   "outputs": [
    {
     "data": {
      "text/plain": [
       "count(0)"
      ]
     },
     "execution_count": 6,
     "metadata": {},
     "output_type": "execute_result"
    }
   ],
   "source": [
    "from itertools import count\n",
    "count()"
   ]
  },
  {
   "cell_type": "code",
   "execution_count": 7,
   "metadata": {},
   "outputs": [
    {
     "name": "stdout",
     "output_type": "stream",
     "text": [
      "0 1 2 3 4 5 6 7 8 9 10 "
     ]
    }
   ],
   "source": [
    "for i in count():\n",
    "    print(i, end=' ')\n",
    "    if i >= 10: break"
   ]
  },
  {
   "cell_type": "code",
   "execution_count": 8,
   "metadata": {},
   "outputs": [
    {
     "name": "stdout",
     "output_type": "stream",
     "text": [
      "1 11 13 17 19 23 29 31 37 41 "
     ]
    }
   ],
   "source": [
    "factors = [2, 3, 5, 7]\n",
    "G = (i for i in count() if all(i % n > 0 for n in factors))\n",
    "for val in G:\n",
    "    print(val, end=' ')\n",
    "    if val > 40: break"
   ]
  },
  {
   "cell_type": "code",
   "execution_count": 9,
   "metadata": {},
   "outputs": [
    {
     "name": "stdout",
     "output_type": "stream",
     "text": [
      "0 1 4 9 16 25 36 49 64 81 100 121 \n",
      "0 1 4 9 16 25 36 49 64 81 100 121 "
     ]
    }
   ],
   "source": [
    "L = [n ** 2 for n in range(12)]\n",
    "for val in L:\n",
    "    print(val, end=' ')\n",
    "print()\n",
    "\n",
    "for val in L:\n",
    "    print(val, end=' ')"
   ]
  },
  {
   "cell_type": "code",
   "execution_count": 10,
   "metadata": {},
   "outputs": [
    {
     "data": {
      "text/plain": [
       "[0, 1, 4, 9, 16, 25, 36, 49, 64, 81, 100, 121]"
      ]
     },
     "execution_count": 10,
     "metadata": {},
     "output_type": "execute_result"
    }
   ],
   "source": [
    "G = (n ** 2 for n in range(12))\n",
    "list(G)"
   ]
  },
  {
   "cell_type": "code",
   "execution_count": 11,
   "metadata": {},
   "outputs": [
    {
     "name": "stdout",
     "output_type": "stream",
     "text": [
      "0 1 4 9 16 25 36 \n",
      "doing something in between\n",
      "49 64 81 100 121 "
     ]
    }
   ],
   "source": [
    "G = (n**2 for n in range(12))\n",
    "for n in G:\n",
    "    print(n, end=' ')\n",
    "    if n > 30: break\n",
    "\n",
    "print(\"\\ndoing something in between\")\n",
    "\n",
    "for n in G:\n",
    "    print(n, end=' ')"
   ]
  },
  {
   "cell_type": "markdown",
   "metadata": {},
   "source": [
    "# Generator Functions: Using yield"
   ]
  },
  {
   "cell_type": "code",
   "execution_count": 12,
   "metadata": {},
   "outputs": [
    {
     "name": "stdout",
     "output_type": "stream",
     "text": [
      "[0, 1, 4, 9, 16, 25, 36, 49, 64, 81, 100, 121]\n",
      "[0, 1, 4, 9, 16, 25, 36, 49, 64, 81, 100, 121]\n"
     ]
    }
   ],
   "source": [
    "L1 = [n ** 2 for n in range(12)]\n",
    "\n",
    "L2 = []\n",
    "for n in range(12):\n",
    "    L2.append(n ** 2)\n",
    "\n",
    "print(L1)\n",
    "print(L2)"
   ]
  },
  {
   "cell_type": "code",
   "execution_count": 13,
   "metadata": {},
   "outputs": [
    {
     "name": "stdout",
     "output_type": "stream",
     "text": [
      "0 1 4 9 16 25 36 49 64 81 100 121\n",
      "0 1 4 9 16 25 36 49 64 81 100 121\n"
     ]
    }
   ],
   "source": [
    "G1 = (n ** 2 for n in range(12))\n",
    "\n",
    "def gen():\n",
    "    for n in range(12):\n",
    "        yield n ** 2\n",
    "\n",
    "G2 = gen()\n",
    "print(*G1)\n",
    "print(*G2)"
   ]
  },
  {
   "cell_type": "markdown",
   "metadata": {},
   "source": [
    "# Example: Prime Number Generator"
   ]
  },
  {
   "cell_type": "code",
   "execution_count": 14,
   "metadata": {},
   "outputs": [
    {
     "name": "stdout",
     "output_type": "stream",
     "text": [
      "[2, 3, 4, 5, 6, 7, 8, 9, 10, 11, 12, 13, 14, 15, 16, 17, 18, 19, 20, 21, 22, 23, 24, 25, 26, 27, 28, 29, 30, 31, 32, 33, 34, 35, 36, 37, 38, 39]\n"
     ]
    }
   ],
   "source": [
    "# Generate a list of candidates\n",
    "L = [n for n in range(2, 40)]\n",
    "print(L)"
   ]
  },
  {
   "cell_type": "code",
   "execution_count": 15,
   "metadata": {},
   "outputs": [
    {
     "name": "stdout",
     "output_type": "stream",
     "text": [
      "[2, 3, 5, 7, 9, 11, 13, 15, 17, 19, 21, 23, 25, 27, 29, 31, 33, 35, 37, 39]\n"
     ]
    }
   ],
   "source": [
    "# Remove all multiples of the first value\n",
    "L = [n for n in L if n == L[0] or n % L[0] > 0]\n",
    "print(L)"
   ]
  },
  {
   "cell_type": "code",
   "execution_count": 16,
   "metadata": {},
   "outputs": [
    {
     "name": "stdout",
     "output_type": "stream",
     "text": [
      "[2, 3, 5, 7, 11, 13, 17, 19, 23, 25, 29, 31, 35, 37]\n"
     ]
    }
   ],
   "source": [
    "# Remove all multiples of the second value\n",
    "L = [n for n in L if n == L[1] or n % L[1] > 0]\n",
    "print(L)"
   ]
  },
  {
   "cell_type": "code",
   "execution_count": 18,
   "metadata": {},
   "outputs": [
    {
     "name": "stdout",
     "output_type": "stream",
     "text": [
      "[2, 3, 5, 7, 11, 13, 17, 19, 23, 29, 31, 37]\n"
     ]
    }
   ],
   "source": [
    "# Remove all multiples of the third value\n",
    "L = [n for n in L if n == L[2] or n % L[2] > 0]\n",
    "print(L)"
   ]
  },
  {
   "cell_type": "code",
   "execution_count": 19,
   "metadata": {},
   "outputs": [
    {
     "name": "stdout",
     "output_type": "stream",
     "text": [
      "2 3 5 7 11 13 17 19 23 29 31 37 41 43 47 53 59 61 67 71 73 79 83 89 97\n"
     ]
    }
   ],
   "source": [
    "def gen_primes(N):\n",
    "    \"\"\"Generate primes up to N\"\"\"\n",
    "    primes = set()\n",
    "    for n in range(2, N):\n",
    "        if all(n % p > 0 for p in primes):\n",
    "            primes.add(n)\n",
    "            yield n\n",
    "\n",
    "print(*gen_primes(100))"
   ]
  },
  {
   "cell_type": "markdown",
   "metadata": {},
   "source": [
    "# Regular Expressions"
   ]
  },
  {
   "cell_type": "code",
   "execution_count": null,
   "metadata": {},
   "outputs": [],
   "source": [
    "# Cheatsheet: \n",
    "\"https://learnbyexample.github.io/cheatsheet/python/python-regex-cheatsheet/\"\n",
    "\n",
    "# Python Documentation\n",
    "\"https://docs.python.org/2/library/re.html\"\n"
   ]
  },
  {
   "cell_type": "code",
   "execution_count": null,
   "metadata": {},
   "outputs": [],
   "source": [
    "## Examples\n",
    "\n",
    "# The function definitions are given below:\n",
    "\n",
    "re.search(pattern, string, flags=0)\n",
    "re.fullmatch(pattern, string, flags=0)\n",
    "re.compile(pattern, flags=0)\n",
    "re.sub(pattern, repl, string, count=0, flags=0)\n",
    "re.escape(pattern)\n",
    "re.split(pattern, string, maxsplit=0, flags=0)\n",
    "re.findall(pattern, string, flags=0)\n",
    "re.finditer(pattern, string, flags=0)\n",
    "re.subn(pattern, repl, string, count=0, flags=0)\n"
   ]
  },
  {
   "cell_type": "code",
   "execution_count": 2,
   "metadata": {},
   "outputs": [
    {
     "name": "stdout",
     "output_type": "stream",
     "text": [
      "mission success\n"
     ]
    },
    {
     "data": {
      "text/plain": [
       "True"
      ]
     },
     "execution_count": 2,
     "metadata": {},
     "output_type": "execute_result"
    }
   ],
   "source": [
    "## examples for re.search\n",
    "\n",
    "sentence = 'This is a sample string'\n",
    "\n",
    "# need to load the re module before use\n",
    "import re\n",
    "# check if 'sentence' contains the pattern described by RE argument\n",
    "bool(re.search(r'is', sentence))\n",
    "#True\n",
    "# ignore case while searching for a match\n",
    "bool(re.search(r'this', sentence, flags=re.I))\n",
    "#True\n",
    "bool(re.search(r'xyz', sentence))\n",
    "#False\n",
    "\n",
    "# re.search output can be directly used in conditional expressions\n",
    "if re.search(r'ring', sentence):\n",
    "    print('mission success')\n",
    " \n",
    "# mission success\n",
    "\n",
    "# use raw byte strings if input is of byte data type\n",
    "bool(re.search(rb'is', b'This is a sample string'))\n",
    "#True\n"
   ]
  },
  {
   "cell_type": "code",
   "execution_count": null,
   "metadata": {},
   "outputs": [],
   "source": [
    "# difference between string and line anchors \n",
    "\n",
    "# string anchors\n",
    ">>> bool(re.search(r'\\Ahi', 'hi hello\\ntop spot'))\n",
    "True\n",
    ">>> words = ['surrender', 'up', 'newer', 'do', 'ear', 'eel', 'pest']\n",
    ">>> [w for w in words if re.search(r'er\\Z', w)]\n",
    "['surrender', 'newer']\n",
    "\n",
    "# line anchors\n",
    ">>> bool(re.search(r'^par$', 'spare\\npar\\ndare', flags=re.M))\n",
    "True\n"
   ]
  },
  {
   "cell_type": "code",
   "execution_count": null,
   "metadata": {},
   "outputs": [],
   "source": [
    "# examples for re.findall \n",
    "\n",
    "# whole word par with optional s at start and optional e at end\n",
    ">>> re.findall(r'\\bs?pare?\\b', 'par spar apparent spare part pare')\n",
    "['par', 'spar', 'spare', 'pare']\n",
    "\n",
    "# numbers >= 100 with optional leading zeros\n",
    ">>> re.findall(r'\\b0*[1-9]\\d{2,}\\b', '0501 035 154 12 26 98234')\n",
    "['0501', '154', '98234']\n",
    "\n",
    "# if multiple capturing groups are used, each element of output\n",
    "# will be a tuple of strings of all the capture groups\n",
    ">>> re.findall(r'([^/]+)/([^/,]+),?', '2020/04,1986/Mar')\n",
    "[('2020', '04'), ('1986', 'Mar')]\n",
    "\n",
    "# normal capture group will hinder ability to get whole match\n",
    "# non-capturing group to the rescue\n",
    ">>> re.findall(r'\\b\\w*(?:st|in)\\b', 'cost akin more east run')\n",
    "['cost', 'akin', 'east']\n",
    "\n",
    "# useful for debugging purposes as well\n",
    ">>> re.findall(r't.*?a', 'that is quite a fabricated tale')\n",
    "['tha', 't is quite a', 'ted ta']\n"
   ]
  },
  {
   "cell_type": "code",
   "execution_count": null,
   "metadata": {},
   "outputs": [],
   "source": [
    "## examples for re.split\n",
    "\n",
    "# split based on one or more digit characters\n",
    ">>> re.split(r'\\d+', 'Sample123string42with777numbers')\n",
    "['Sample', 'string', 'with', 'numbers']\n",
    "\n",
    "# split based on digit or whitespace characters\n",
    ">>> re.split(r'[\\d\\s]+', '**1\\f2\\n3star\\t7 77\\r**')\n",
    "['**', 'star', '**']\n",
    "\n",
    "# to include the matching delimiter strings as well in the output\n",
    ">>> re.split(r'(\\d+)', 'Sample123string42with777numbers')\n",
    "['Sample', '123', 'string', '42', 'with', '777', 'numbers']\n",
    "\n",
    "# use non-capturing group if capturing is not needed\n",
    ">>> re.split(r'hand(?:y|ful)', '123handed42handy777handful500')\n",
    "['123handed42', '777', '500']\n"
   ]
  },
  {
   "cell_type": "code",
   "execution_count": null,
   "metadata": {},
   "outputs": [],
   "source": [
    "# backreferencing within search pattern \n",
    "\n",
    "# whole words that have at least one consecutive repeated character\n",
    ">>> words = ['effort', 'flee', 'facade', 'oddball', 'rat', 'tool']\n",
    "\n",
    ">>> [w for w in words if re.search(r'\\b\\w*(\\w)\\1\\w*\\b', w)]\n",
    "['effort', 'flee', 'oddball', 'tool']\n"
   ]
  },
  {
   "cell_type": "code",
   "execution_count": null,
   "metadata": {},
   "outputs": [],
   "source": [
    "# working with matched portions \n",
    "\n",
    ">>> re.search(r'b.*d', 'abc ac adc abbbc')\n",
    "<re.Match object; span=(1, 9), match='bc ac ad'>\n",
    "# retrieving entire matched portion, note the use of [0]\n",
    ">>> re.search(r'b.*d', 'abc ac adc abbbc')[0]\n",
    "'bc ac ad'\n",
    "\n",
    "# capture group example\n",
    ">>> m = re.search(r'a(.*)d(.*a)', 'abc ac adc abbbc')\n",
    "# to get matched portion of second capture group\n",
    ">>> m[2]\n",
    "'c a'\n",
    "# to get a tuple of all the capture groups\n",
    ">>> m.groups()\n",
    "('bc ac a', 'c a')\n"
   ]
  },
  {
   "cell_type": "code",
   "execution_count": null,
   "metadata": {},
   "outputs": [],
   "source": [
    "# examples for re.finditer \n",
    "\n",
    "# numbers < 350\n",
    ">>> m_iter = re.finditer(r'[0-9]+', '45 349 651 593 4 204')\n",
    ">>> [m[0] for m in m_iter if int(m[0]) < 350]\n",
    "['45', '349', '4', '204']\n",
    "\n",
    "# start and end+1 index of each matching portion\n",
    ">>> m_iter = re.finditer(r'ab+c', 'abc ac adc abbbc')\n",
    ">>> for m in m_iter:\n",
    "...     print(m.span())\n",
    "... \n",
    "(0, 3)\n",
    "(11, 16)\n"
   ]
  },
  {
   "cell_type": "code",
   "execution_count": null,
   "metadata": {},
   "outputs": [],
   "source": [
    "# examples for re.sub \n",
    "\n",
    ">>> ip_lines = \"catapults\\nconcatenate\\ncat\"\n",
    ">>> print(re.sub(r'^', r'* ', ip_lines, flags=re.M))\n",
    "* catapults\n",
    "* concatenate\n",
    "* cat\n",
    "\n",
    "# replace 'par' only at start of word\n",
    ">>> re.sub(r'\\bpar', r'X', 'par spar apparent spare part')\n",
    "'X spar apparent spare Xt'\n",
    "\n",
    "# same as: r'part|parrot|parent'\n",
    ">>> re.sub(r'par(en|ro)?t', r'X', 'par part parrot parent')\n",
    "'par X X X'\n",
    "\n",
    "# remove first two columns where : is delimiter\n",
    ">>> re.sub(r'\\A([^:]+:){2}', r'', 'foo:123:bar:baz', count=1)\n",
    "'bar:baz'\n"
   ]
  },
  {
   "cell_type": "code",
   "execution_count": null,
   "metadata": {},
   "outputs": [],
   "source": [
    "# backreferencing in replacement section \n",
    "\n",
    "# remove consecutive duplicate words separated by space\n",
    ">>> re.sub(r'\\b(\\w+)( \\1)+\\b', r'\\1', 'aa a a a 42 f_1 f_1 f_13.14')\n",
    "'aa a 42 f_1 f_13.14'\n",
    "\n",
    "# add something around the matched strings\n",
    ">>> re.sub(r'\\d+', r'(\\g<0>0)', '52 apples and 31 mangoes')\n",
    "'(520) apples and (310) mangoes'\n",
    "\n",
    "# swap words that are separated by a comma\n",
    ">>> re.sub(r'(\\w+),(\\w+)', r'\\2,\\1', 'good,bad 42,24')\n",
    "'bad,good 24,42'\n"
   ]
  },
  {
   "cell_type": "code",
   "execution_count": null,
   "metadata": {},
   "outputs": [],
   "source": [
    "# using functions in replacement section of re.sub \n",
    "\n",
    ">>> from math import factorial\n",
    ">>> numbers = '1 2 3 4 5'\n",
    ">>> def fact_num(n):\n",
    "...     return str(factorial(int(n[0])))\n",
    "... \n",
    ">>> re.sub(r'\\d+', fact_num, numbers)\n",
    "'1 2 6 24 120'\n",
    "\n",
    "# using lambda\n",
    ">>> re.sub(r'\\d+', lambda m: str(factorial(int(m[0]))), numbers)\n",
    "'1 2 6 24 120'\n",
    "\n"
   ]
  },
  {
   "cell_type": "code",
   "execution_count": null,
   "metadata": {},
   "outputs": [],
   "source": [
    "# examples for lookarounds \n",
    "\n",
    "# change 'foo' only if it is not followed by a digit character\n",
    "# note that end of string satisfies the given assertion\n",
    "# foofoo has 2 matches as the assertion doesn't consume characters\n",
    ">>> re.sub(r'foo(?!\\d)', r'baz', 'hey food! foo42 foot5 foofoo')\n",
    "'hey bazd! foo42 bazt5 bazbaz'\n",
    "\n",
    "# change whole word only if it is not preceded by : or -\n",
    ">>> re.sub(r'(?<![:-])\\b\\w+\\b', r'X', ':cart <apple -rest ;tea')\n",
    "':cart <X -rest ;X'\n",
    "\n",
    "# match digits only if it is preceded by - and followed by ; or :\n",
    ">>> re.findall(r'(?<=-)\\d+(?=[:;])', 'fo-5, ba3; x-83, y-20: f12')\n",
    "['20']\n",
    "\n",
    "# words containing 'b' and 'e' and 't' in any order\n",
    ">>> words = ['sequoia', 'questionable', 'exhibit', 'equation']\n",
    ">>> [w for w in words if re.search(r'(?=.*b)(?=.*e).*t', w)]\n",
    "['questionable', 'exhibit']\n",
    "\n",
    "# match if 'do' is not there between 'at' and 'par'\n",
    ">>> bool(re.search(r'at((?!do).)*par', 'fox,cat,dog,parrot'))\n",
    "False\n",
    "# match if 'go' is not there between 'at' and 'par'\n",
    ">>> bool(re.search(r'at((?!go).)*par', 'fox,cat,dog,parrot'))\n",
    "True\n"
   ]
  },
  {
   "cell_type": "code",
   "execution_count": null,
   "metadata": {},
   "outputs": [],
   "source": [
    "# examples for re.compile \n",
    "\n",
    ">>> pet = re.compile(r'dog')\n",
    ">>> type(pet)\n",
    "<class 're.Pattern'>\n",
    ">>> bool(pet.search('They bought a dog'))\n",
    "True\n",
    ">>> bool(pet.search('A cat crossed their path'))\n",
    "False\n",
    "\n",
    ">>> pat = re.compile(r'\\([^)]*\\)')\n",
    ">>> pat.sub('', 'a+b(addition) - foo() + c%d(#modulo)')\n",
    "'a+b - foo + c%d'\n",
    ">>> pat.sub('', 'Hi there(greeting). Nice day(a(b)')\n",
    "'Hi there. Nice day'\n"
   ]
  },
  {
   "cell_type": "markdown",
   "metadata": {},
   "source": [
    "# HW6 - Q1"
   ]
  },
  {
   "cell_type": "code",
   "execution_count": 20,
   "metadata": {},
   "outputs": [
    {
     "name": "stdout",
     "output_type": "stream",
     "text": [
      "jfj jfjfj\n",
      "\n"
     ]
    }
   ],
   "source": [
    "import re\n",
    "import sys\n",
    "\n",
    "lineNumber = input()\n",
    "text = sys.stdin.read()\n",
    "orRegex = re.compile(r'\\s\\|\\|\\s')\n",
    "\n",
    "text = re.sub(\"\\s&&\\s\", \" and \", text)\n",
    "text = re.sub(\"\\s&&\\s\", \" and \", text)\n",
    "text = re.sub(orRegex, \" or \", text)\n",
    "text = re.sub(orRegex, \" or \", text)\n",
    "\n",
    "print(text)"
   ]
  },
  {
   "cell_type": "markdown",
   "metadata": {},
   "source": [
    "# HW6 - Q2"
   ]
  },
  {
   "cell_type": "code",
   "execution_count": null,
   "metadata": {},
   "outputs": [],
   "source": [
    "import re\n",
    "\n",
    "numLines = input()\n",
    "\n",
    "validEmail = re.compile(r'<[A-Za-z][\\w.-]+@[A-Za-z]+\\.[A-Za-z]{1,3}>')\n",
    "\n",
    "for i in range(0,int(numLines)):\n",
    "    name, emailAdd = input().split()\n",
    "    if(validEmail.match(emailAdd)):\n",
    "        print(name, emailAdd)"
   ]
  },
  {
   "cell_type": "markdown",
   "metadata": {},
   "source": [
    "# Alternative HW6 - Q1"
   ]
  },
  {
   "cell_type": "code",
   "execution_count": null,
   "metadata": {},
   "outputs": [],
   "source": [
    "import re\n",
    "\n",
    "a = input()\n",
    "b = int(a[:2])\n",
    "print(b)\n",
    "for _ in range(b):\n",
    "   x = input()\n",
    "   x = re.sub(r\"\\s(&&)\\s\", ' and ', x)\n",
    "   x = re.sub(r\"\\s(&&)\\s\", ' and ', x)\n",
    "   x = re.sub(r\"\\s(\\|\\|)\\s\", ' or ', x)    \n",
    "   x = re.sub(r\"\\s(\\|\\|)\\s\", ' or ', x)\n",
    "   print(x)"
   ]
  },
  {
   "cell_type": "markdown",
   "metadata": {},
   "source": [
    "# HW 7"
   ]
  },
  {
   "cell_type": "code",
   "execution_count": null,
   "metadata": {},
   "outputs": [],
   "source": [
    "import math\n",
    "from math import pow\n",
    "\n",
    "class Complex(object):\n",
    "    def __init__(self, real, imaginary):\n",
    "        self.real = real\n",
    "        self.imaginary = imaginary\n",
    "\n",
    "    def __add__(self, no):\n",
    "        return Complex(self.real + no.real, \n",
    "                        self.imaginary + no.imaginary)\n",
    "\n",
    "    def __sub__(self, no):\n",
    "        return Complex(self.real - no.real, \n",
    "                        self.imaginary - no.imaginary)\n",
    "\n",
    "    def __mul__(self, no):\n",
    "        return Complex((self.real * no.real) - (self.imaginary * no.imaginary), \n",
    "                        (self.imaginary * no.real) + (self.real * no.imaginary))\n",
    "\n",
    "    def __truediv__(self, no):\n",
    "        r = float(no.real**2 + no.imaginary**2)\n",
    "        return Complex((self.real * no.real + self.imaginary * no.imaginary) / r, \n",
    "                        (self.imaginary * no.real - self.real * no.imaginary) / r)\n",
    "\n",
    "    def mod(self):\n",
    "        return Complex(pow(self.real**2 + self.imaginary**2, 0.5), 0)\n",
    "\n",
    "    def __str__(self):\n",
    "        if self.imaginary == 0:\n",
    "            result = \"%.2f+0.00i\" % (self.real)\n",
    "        elif self.real == 0:\n",
    "            if self.imaginary >= 0:\n",
    "                result = \"0.00+%.2fi\" % (self.imaginary)\n",
    "            else:\n",
    "                result = \"0.00-%.2fi\" % (abs(self.imaginary))\n",
    "        elif self.imaginary > 0:\n",
    "            result = \"%.2f+%.2fi\" % (self.real, self.imaginary)\n",
    "        else:\n",
    "            result = \"%.2f-%.2fi\" % (self.real, abs(self.imaginary))\n",
    "        return result"
   ]
  }
 ],
 "metadata": {
  "kernelspec": {
   "display_name": "Python 3",
   "language": "python",
   "name": "python3"
  },
  "language_info": {
   "codemirror_mode": {
    "name": "ipython",
    "version": 3
   },
   "file_extension": ".py",
   "mimetype": "text/x-python",
   "name": "python",
   "nbconvert_exporter": "python",
   "pygments_lexer": "ipython3",
   "version": "3.8.3"
  }
 },
 "nbformat": 4,
 "nbformat_minor": 4
}
