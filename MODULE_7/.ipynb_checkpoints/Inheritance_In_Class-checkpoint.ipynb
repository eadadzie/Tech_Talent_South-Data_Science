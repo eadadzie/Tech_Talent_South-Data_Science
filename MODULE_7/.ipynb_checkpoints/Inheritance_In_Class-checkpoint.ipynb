{
 "cells": [
  {
   "cell_type": "markdown",
   "metadata": {},
   "source": [
    "# Inheritance"
   ]
  },
  {
   "cell_type": "code",
   "execution_count": null,
   "metadata": {},
   "outputs": [],
   "source": [
    "'''\n",
    "A derived class is sometimes also called a subclass and the base class is called \n",
    "super class. The inheritance relation of two classes B and C can be tested with \n",
    "function issubclass: issubclass(C,B)==True but issubclass(B,C)==False Function \n",
    "isinstance(obj, cls) allows us to test whether an instance has type cls or has \n",
    "an ancestor class of type cls. Let’s create instances x=C() and y=B(). Now we \n",
    "have isinstance(x,B)== isinstance(x,C)==isinstance(y,B)==True. But \n",
    "isinstance(y,C)==False.\n",
    "'''"
   ]
  },
  {
   "cell_type": "code",
   "execution_count": 1,
   "metadata": {},
   "outputs": [
    {
     "name": "stdout",
     "output_type": "stream",
     "text": [
      "Constructor C\n",
      "(<class '__main__.C'>, <class '__main__.A'>, <class '__main__.B'>, <class 'object'>)\n",
      "[<class '__main__.C'>, <class '__main__.A'>, <class '__main__.B'>, <class 'object'>]\n"
     ]
    }
   ],
   "source": [
    "class A: \n",
    "    def rk(self): \n",
    "        print(\" In class A\") \n",
    "class B: \n",
    "    def rk(self): \n",
    "        print(\" In class B\") \n",
    "  \n",
    "# classes ordering \n",
    "class C(A, B): \n",
    "    def __init__(self): \n",
    "        print(\"Constructor C\") \n",
    "  \n",
    "r = C() \n",
    "  \n",
    "# it prints the lookup order  \n",
    "print(C.__mro__) # mro => method resolution order\n",
    "print(C.mro())\n"
   ]
  },
  {
   "cell_type": "markdown",
   "metadata": {},
   "source": [
    "# HW8"
   ]
  },
  {
   "cell_type": "code",
   "execution_count": 14,
   "metadata": {},
   "outputs": [
    {
     "ename": "SyntaxError",
     "evalue": "f-string: empty expression not allowed (<ipython-input-14-d9cc0605d223>, line 36)",
     "output_type": "error",
     "traceback": [
      "\u001b[1;36m  File \u001b[1;32m\"<ipython-input-14-d9cc0605d223>\"\u001b[1;36m, line \u001b[1;32m36\u001b[0m\n\u001b[1;33m    print(f'The student named {} with ID number {std1_id} \\n had a grade of {std1_grade} in python class')\u001b[0m\n\u001b[1;37m          ^\u001b[0m\n\u001b[1;31mSyntaxError\u001b[0m\u001b[1;31m:\u001b[0m f-string: empty expression not allowed\n"
     ]
    }
   ],
   "source": [
    "class Person:\n",
    "    def __init__(self, firstName, LastName):\n",
    "        self.firstName = firstName\n",
    "        self.LastName = LastName\n",
    "    \n",
    "    def PrintName(self):\n",
    "        print(self.firstName, self.LastName)\n",
    "\n",
    "\n",
    "class Student(Person):\n",
    "    def __init__(self, std_FName, std_LName, Id, scores):\n",
    "        super().__init__(std_FName, std_LName)\n",
    "        self.Id = Id\n",
    "        self.scores = scores\n",
    "     \n",
    "    def Calculate_grade(self):\n",
    "        avg = sum(self.scores) / len(self.scores)\n",
    "        \n",
    "        if 90 <= avg <= 100:\n",
    "            return \"A\"\n",
    "        elif 80 <= avg <= 89:\n",
    "            return \"B\"\n",
    "        elif 70 <= avg <= 79:\n",
    "            return \"C\"\n",
    "        elif 60 <= avg <= 69:\n",
    "            return \"D\"\n",
    "        elif avg < 60:\n",
    "            return \"F\"\n",
    "\n",
    "student1 = Student('Emmanuel', 'Dadzie', 123456, [92, 82, 70, 88, 95, 60, 50])\n",
    "\n",
    "std1_name = \"\"\n",
    "std1_id = student1.Id\n",
    "std1_grade = student1.Calculate_grade()\n",
    "\n",
    "print(f'The student named {std1_name} with ID number {std1_id} \\n had a grade of {std1_grade} in python class')"
   ]
  },
  {
   "cell_type": "code",
   "execution_count": null,
   "metadata": {},
   "outputs": [],
   "source": [
    "'''You are given two classes, Person and Student, where Person is the base class and Student is the derived class. Completed code for Person and a declaration for Student are provided for you in the editor. Observe that Student inherits all the properties of Person.\n",
    "\n",
    "Complete the Student class by writing the following:\n",
    "A Student class constructor, which has 4 parameters:\n",
    "- A string, firstName\n",
    "- A string, lastName\n",
    "- An integer, id\n",
    "An integer array (or vector) of test scores, scores\n",
    "\n",
    "A char calculate() method that calculates a Student object's average and returns the grade character representative of their calculated average:\n",
    "A | 90-100\n",
    "B | 80-89\n",
    "C | 70-79\n",
    "D | 60-69\n",
    "F | <60\n",
    "'''\n",
    "\n",
    "class Person:\n",
    "    #initializing the variables\n",
    "    name = \"\"\n",
    "    age = 0\n",
    "    \n",
    "    #defining constructor\n",
    "    def __init__(self, person_name, person_age):\n",
    "        self.name = person_name\n",
    "        self.age = person_age\n",
    "    \n",
    "    #defining class methods\n",
    "    def show_name(self):\n",
    "        print(self.name)\n",
    "        \n",
    "    def show_age(self):\n",
    "        print(self.age)\n"
   ]
  },
  {
   "cell_type": "code",
   "execution_count": null,
   "metadata": {},
   "outputs": [],
   "source": [
    "class Person(object):\n",
    "    first = \"\"\n",
    "    last = \"\"\n",
    "    def __init__(self, first, last):\n",
    "        self.first = str(first)\n",
    "        self.last = str(last)\n",
    "\n",
    "class Student(Person):\n",
    "    def __init__(self, first, last, id, scores):\n",
    "        super().__init__(first, last)\n",
    "        self.id = id\n",
    "        self.scores = scores\n",
    "    def __avg__(self, scores):\n",
    "        avg = sum(scores)/len(scores)\n",
    "        return avg\n",
    "    def __calculate__(self, avg):\n",
    "        if 90<=avg<=100:\n",
    "            return \"A\"\n",
    "        elif 80<=avg<=89:\n",
    "            return \"B\"\n",
    "        elif 70<=avg<=79:\n",
    "            return \"C\"\n",
    "        elif 60<=avg<=69:\n",
    "            return \"D\"\n",
    "        else:\n",
    "            return \"F\"\n",
    "\n",
    "first = input(\"Hello! Please enter student first name: \")\n",
    "last = input(\"Please enter student last name: \")\n",
    "id = int(input(\"Please enter student ID: \"))\n",
    "scores = list(map(int, input(\"Please enter test scores (space-separated #'s): \").split(' ')))\n",
    "print(\"Thanks!\")\n",
    "print(\" \")\n",
    "student1 = Student(first, last, id, scores)\n",
    "avg = student1.__avg__(scores)\n",
    "grade = student1.__calculate__(avg)\n",
    "print(\"The student got a letter grade of\", grade, \"for the year.\")\n"
   ]
  }
 ],
 "metadata": {
  "kernelspec": {
   "display_name": "Python 3",
   "language": "python",
   "name": "python3"
  },
  "language_info": {
   "codemirror_mode": {
    "name": "ipython",
    "version": 3
   },
   "file_extension": ".py",
   "mimetype": "text/x-python",
   "name": "python",
   "nbconvert_exporter": "python",
   "pygments_lexer": "ipython3",
   "version": "3.8.3"
  }
 },
 "nbformat": 4,
 "nbformat_minor": 4
}
